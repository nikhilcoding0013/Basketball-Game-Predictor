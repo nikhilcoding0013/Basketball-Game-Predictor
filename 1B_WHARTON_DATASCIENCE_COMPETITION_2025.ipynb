{
  "nbformat": 4,
  "nbformat_minor": 0,
  "metadata": {
    "colab": {
      "provenance": [],
      "include_colab_link": true
    },
    "kernelspec": {
      "name": "python3",
      "display_name": "Python 3"
    },
    "language_info": {
      "name": "python"
    }
  },
  "cells": [
    {
      "cell_type": "markdown",
      "metadata": {
        "id": "view-in-github",
        "colab_type": "text"
      },
      "source": [
        "<a href=\"https://colab.research.google.com/github/nikhilcoding0013/Basketball-Game-Predictor/blob/main/1B_WHARTON_DATASCIENCE_COMPETITION_2025.ipynb\" target=\"_parent\"><img src=\"https://colab.research.google.com/assets/colab-badge.svg\" alt=\"Open In Colab\"/></a>"
      ]
    },
    {
      "cell_type": "code",
      "source": [
        "import pandas as pd\n",
        "import csv\n",
        "df = pd.read_csv('Copy of games_2022 - games_2022.csv')\n",
        "df['OT_length_min_tot'] = df['OT_length_min_tot'].map(lambda x: 0 if pd.isna(x) else x)\n",
        "df['notD1_incomplete']=df['notD1_incomplete'].map({False:0, True:1})\n",
        "print(df.head())\n",
        "print(df['notD1_incomplete'][2232])"
      ],
      "metadata": {
        "colab": {
          "base_uri": "https://localhost:8080/"
        },
        "id": "Nsf8No9rqvYb",
        "outputId": "df8859b8-bf4f-4ca9-fcf9-f562f825cd50"
      },
      "execution_count": 3,
      "outputs": [
        {
          "output_type": "stream",
          "name": "stdout",
          "text": [
            "          game_id   game_date                       team  FGA_2  FGM_2  FGA_3  \\\n",
            "0  game_2022_2011  2021-12-30      georgia_lady_bulldogs     50     22     11   \n",
            "1  game_2022_2011  2021-12-30                 lsu_tigers     50     24     11   \n",
            "2  game_2022_2012  2021-12-30            missouri_tigers     43     18     15   \n",
            "3  game_2022_2012  2021-12-30   south_carolina_gamecocks     55     23     21   \n",
            "4  game_2022_2013  2021-12-30  tennessee_lady_volunteers     41     20     15   \n",
            "\n",
            "   FGM_3  FTA  FTM  AST  ...  largest_lead  notD1_incomplete  \\\n",
            "0      5    6    3   14  ...           1.0                 0   \n",
            "1      4   15    8   15  ...          14.0                 0   \n",
            "2      7   16   13   10  ...           8.0                 0   \n",
            "3      6    9    5   15  ...           6.0                 0   \n",
            "4      4   15   10   16  ...          19.0                 0   \n",
            "\n",
            "   OT_length_min_tot  rest_days  attendance  tz_dif_H_E  prev_game_dist  \\\n",
            "0                0.0        9.0      3241.0         0.0             0.0   \n",
            "1                0.0        3.0      3241.0         0.0           824.0   \n",
            "2                5.0        8.0      6139.0         0.0           371.0   \n",
            "3                5.0        9.0      6139.0         0.0          1154.0   \n",
            "4                0.0        3.0      8124.0         0.0             0.0   \n",
            "\n",
            "   home_away  home_away_NS  travel_dist  \n",
            "0       home             1          0.0  \n",
            "1       away            -1        824.0  \n",
            "2       home             1          0.0  \n",
            "3       away            -1       1154.0  \n",
            "4       home             1          0.0  \n",
            "\n",
            "[5 rows x 30 columns]\n",
            "1\n"
          ]
        }
      ]
    },
    {
      "cell_type": "code",
      "source": [
        "df['home_away']=df['home_away'].map({'home':0, 'away':1})"
      ],
      "metadata": {
        "id": "V0JmhB6pwwSV"
      },
      "execution_count": 4,
      "outputs": []
    },
    {
      "cell_type": "code",
      "source": [
        "df.head()\n",
        "print(df.shape)"
      ],
      "metadata": {
        "colab": {
          "base_uri": "https://localhost:8080/"
        },
        "id": "tQhbSDuvzLqs",
        "outputId": "b4ee4f5d-f8ff-463c-d165-e85fcf564b6b"
      },
      "execution_count": 5,
      "outputs": [
        {
          "output_type": "stream",
          "name": "stdout",
          "text": [
            "(10438, 30)\n"
          ]
        }
      ]
    },
    {
      "cell_type": "code",
      "source": [
        "# Importing essential libraries\n",
        "\n",
        "# For data manipulation and loading\n",
        "import pandas as pd\n",
        "import numpy as np\n",
        "\n",
        "# For splitting the data into training and testing sets\n",
        "from sklearn.model_selection import train_test_split\n",
        "\n",
        "# For evaluation metrics (MAE, MSE, RMSE, R2)\n",
        "from sklearn.metrics import mean_absolute_error, mean_squared_error, r2_score\n",
        "\n",
        "# For scaling features (optional but recommended for some models)\n",
        "from sklearn.preprocessing import StandardScaler\n",
        "\n",
        "# XGBoost library for model building\n",
        "import xgboost as xgb\n",
        "\n",
        "# After the upload, you can load your CSV as follows:\n",
        "df = pd.read_csv('Copy of games_2022 - games_2022.csv')\n",
        "\n",
        "# Display the first few rows and add win column\n",
        "df['win'] = (df['opponent_team_score'] < df['team_score']).astype(int)\n",
        "print(df.head())\n",
        "\n",
        "\n"
      ],
      "metadata": {
        "colab": {
          "base_uri": "https://localhost:8080/"
        },
        "id": "CYqE25Id_M26",
        "outputId": "9dc96333-36be-4b94-df45-c9fccfd07acd"
      },
      "execution_count": 14,
      "outputs": [
        {
          "output_type": "stream",
          "name": "stdout",
          "text": [
            "          game_id   game_date                       team  FGA_2  FGM_2  FGA_3  \\\n",
            "0  game_2022_2011  2021-12-30      georgia_lady_bulldogs     50     22     11   \n",
            "1  game_2022_2011  2021-12-30                 lsu_tigers     50     24     11   \n",
            "2  game_2022_2012  2021-12-30            missouri_tigers     43     18     15   \n",
            "3  game_2022_2012  2021-12-30   south_carolina_gamecocks     55     23     21   \n",
            "4  game_2022_2013  2021-12-30  tennessee_lady_volunteers     41     20     15   \n",
            "\n",
            "   FGM_3  FTA  FTM  AST  ...  notD1_incomplete  OT_length_min_tot  rest_days  \\\n",
            "0      5    6    3   14  ...             False                NaN        9.0   \n",
            "1      4   15    8   15  ...             False                NaN        3.0   \n",
            "2      7   16   13   10  ...             False                5.0        8.0   \n",
            "3      6    9    5   15  ...             False                5.0        9.0   \n",
            "4      4   15   10   16  ...             False                NaN        3.0   \n",
            "\n",
            "   attendance  tz_dif_H_E  prev_game_dist  home_away  home_away_NS  \\\n",
            "0      3241.0         0.0             0.0       home             1   \n",
            "1      3241.0         0.0           824.0       away            -1   \n",
            "2      6139.0         0.0           371.0       home             1   \n",
            "3      6139.0         0.0          1154.0       away            -1   \n",
            "4      8124.0         0.0             0.0       home             1   \n",
            "\n",
            "   travel_dist  win  \n",
            "0          0.0    0  \n",
            "1        824.0    1  \n",
            "2          0.0    1  \n",
            "3       1154.0    0  \n",
            "4          0.0    1  \n",
            "\n",
            "[5 rows x 31 columns]\n"
          ]
        }
      ]
    },
    {
      "cell_type": "code",
      "source": [
        "dfn = df.drop(columns=['F_tech', 'F_personal', 'game_id', 'attendance', 'tz_dif_H_E', 'prev_game_dist', 'TOV_team', 'home_away', 'game_date', 'FGA_2', 'FGM_2', 'FGA_3', 'FGM_3', 'FTA', 'FTM',  'AST',  'BLK',  'STL',  'TOV',  'DREB',  'OREB',  'team_score',  'opponent_team_score', 'largest_lead', 'OT_length_min_tot'])\n",
        "dfn.loc[dfn['home_away_NS'] == -1, 'travel_dist'] = 0\n",
        "dfn['notD1_incomplete'] = dfn['notD1_incomplete'].astype(int)\n",
        "print(dfn.head())"
      ],
      "metadata": {
        "colab": {
          "base_uri": "https://localhost:8080/"
        },
        "id": "F9mLGIcjdbUu",
        "outputId": "ce8650c2-9b58-4a52-94b1-6f6c45e995d1"
      },
      "execution_count": 21,
      "outputs": [
        {
          "output_type": "stream",
          "name": "stdout",
          "text": [
            "                        team  notD1_incomplete  rest_days  home_away_NS  \\\n",
            "0      georgia_lady_bulldogs                 0        9.0             1   \n",
            "1                 lsu_tigers                 0        3.0            -1   \n",
            "2            missouri_tigers                 0        8.0             1   \n",
            "3   south_carolina_gamecocks                 0        9.0            -1   \n",
            "4  tennessee_lady_volunteers                 0        3.0             1   \n",
            "\n",
            "   travel_dist  win  \n",
            "0          0.0    0  \n",
            "1          0.0    1  \n",
            "2          0.0    1  \n",
            "3          0.0    0  \n",
            "4          0.0    1  \n"
          ]
        }
      ]
    },
    {
      "cell_type": "code",
      "source": [
        "expected_probs = []\n",
        "for i in range(0, len(dfn), 2):\n",
        "    team_A = dfn.iloc[i]  # First row (Team 1)\n",
        "    team_B = dfn.iloc[i+1]  # Second row (Team 2)\n",
        "    P_A = expected_win_prob(team_A['team'], team_B['team'])\n",
        "    P_B = 1 - P_A\n",
        "    expected_probs.append(P_A)\n",
        "    expected_probs.append(P_B)\n",
        "dfn['expected_win_prob'] = expected_probs\n",
        "\n",
        "print(dfn.head())\n",
        "dfn.columns"
      ],
      "metadata": {
        "colab": {
          "base_uri": "https://localhost:8080/"
        },
        "id": "KL9yNy1sbkD8",
        "outputId": "ec8a589e-12a0-44e1-e4a3-4780ebc99110"
      },
      "execution_count": 37,
      "outputs": [
        {
          "output_type": "stream",
          "name": "stdout",
          "text": [
            "                        team  notD1_incomplete  rest_days  home_away_NS  \\\n",
            "0      georgia_lady_bulldogs                 0        9.0             1   \n",
            "1                 lsu_tigers                 0        3.0            -1   \n",
            "2            missouri_tigers                 0        8.0             1   \n",
            "3   south_carolina_gamecocks                 0        9.0            -1   \n",
            "4  tennessee_lady_volunteers                 0        3.0             1   \n",
            "\n",
            "   travel_dist  win  expected_win_prob  \n",
            "0          0.0    0                0.5  \n",
            "1          0.0    1                0.5  \n",
            "2          0.0    1                0.5  \n",
            "3          0.0    0                0.5  \n",
            "4          0.0    1                0.5  \n"
          ]
        },
        {
          "output_type": "execute_result",
          "data": {
            "text/plain": [
              "Index(['team', 'notD1_incomplete', 'rest_days', 'home_away_NS', 'travel_dist',\n",
              "       'win', 'expected_win_prob'],\n",
              "      dtype='object')"
            ]
          },
          "metadata": {},
          "execution_count": 37
        }
      ]
    },
    {
      "cell_type": "code",
      "source": [
        "df0 = dfn.drop(columns=['team'])\n",
        "df0.columns"
      ],
      "metadata": {
        "colab": {
          "base_uri": "https://localhost:8080/"
        },
        "id": "KQW6csrYZWQ2",
        "outputId": "dfe7fa67-5a4d-49c1-e841-13715951cd10"
      },
      "execution_count": 58,
      "outputs": [
        {
          "output_type": "execute_result",
          "data": {
            "text/plain": [
              "Index(['notD1_incomplete', 'rest_days', 'home_away_NS', 'travel_dist', 'win',\n",
              "       'expected_win_prob'],\n",
              "      dtype='object')"
            ]
          },
          "metadata": {},
          "execution_count": 58
        }
      ]
    },
    {
      "cell_type": "code",
      "source": [
        "import pandas as pd\n",
        "import matplotlib.pyplot as plt\n",
        "from sklearn.preprocessing import PolynomialFeatures\n",
        "\n",
        "def report_nans(df):\n",
        "    nan_report = df.isna().sum()\n",
        "    nan_instances = nan_report[nan_report > 0]\n",
        "\n",
        "    if nan_instances.empty:\n",
        "        print(\"No NaN values found in the DataFrame.\")\n",
        "    else:\n",
        "        print(\"NaN values found in the following columns:\")\n",
        "        for col, count in nan_instances.items():\n",
        "            print(f\"Column: {col}, NaN Count: {count}\")\n",
        "\n",
        "df0.fillna(0, inplace=True)\n",
        "df0.columns\n",
        "\n",
        "report_nans(df0)"
      ],
      "metadata": {
        "colab": {
          "base_uri": "https://localhost:8080/"
        },
        "id": "cmV-syamd-by",
        "outputId": "2a11c754-01eb-4d62-c854-144c710f580a"
      },
      "execution_count": 60,
      "outputs": [
        {
          "output_type": "stream",
          "name": "stdout",
          "text": [
            "No NaN values found in the DataFrame.\n"
          ]
        }
      ]
    },
    {
      "cell_type": "code",
      "source": [
        "X = df0[['notD1_incomplete', 'rest_days', 'home_away_NS', 'travel_dist', 'expected_win_prob']]\n",
        "y = df0['win']\n",
        "from sklearn.model_selection import train_test_split\n",
        "X_train, X_test, y_train, y_test = train_test_split(X, y, test_size=0.3, random_state=42)\n",
        "\n",
        "poly = PolynomialFeatures(degree=2)  # Try different degrees (e.g., 3, 4) for better fit\n",
        "X_train_poly = poly.fit_transform(X_train)\n",
        "X_test_poly = poly.transform(X_test)\n",
        "\n",
        "from sklearn.linear_model import LinearRegression\n",
        "lr = LinearRegression()\n",
        "lr.fit(X_train_poly, y_train)"
      ],
      "metadata": {
        "colab": {
          "base_uri": "https://localhost:8080/",
          "height": 80
        },
        "id": "A1xU6PZ7gNiQ",
        "outputId": "b4e2977e-b4ab-4d86-e013-c4c04af9d4fc"
      },
      "execution_count": 61,
      "outputs": [
        {
          "output_type": "execute_result",
          "data": {
            "text/plain": [
              "LinearRegression()"
            ],
            "text/html": [
              "<style>#sk-container-id-1 {\n",
              "  /* Definition of color scheme common for light and dark mode */\n",
              "  --sklearn-color-text: #000;\n",
              "  --sklearn-color-text-muted: #666;\n",
              "  --sklearn-color-line: gray;\n",
              "  /* Definition of color scheme for unfitted estimators */\n",
              "  --sklearn-color-unfitted-level-0: #fff5e6;\n",
              "  --sklearn-color-unfitted-level-1: #f6e4d2;\n",
              "  --sklearn-color-unfitted-level-2: #ffe0b3;\n",
              "  --sklearn-color-unfitted-level-3: chocolate;\n",
              "  /* Definition of color scheme for fitted estimators */\n",
              "  --sklearn-color-fitted-level-0: #f0f8ff;\n",
              "  --sklearn-color-fitted-level-1: #d4ebff;\n",
              "  --sklearn-color-fitted-level-2: #b3dbfd;\n",
              "  --sklearn-color-fitted-level-3: cornflowerblue;\n",
              "\n",
              "  /* Specific color for light theme */\n",
              "  --sklearn-color-text-on-default-background: var(--sg-text-color, var(--theme-code-foreground, var(--jp-content-font-color1, black)));\n",
              "  --sklearn-color-background: var(--sg-background-color, var(--theme-background, var(--jp-layout-color0, white)));\n",
              "  --sklearn-color-border-box: var(--sg-text-color, var(--theme-code-foreground, var(--jp-content-font-color1, black)));\n",
              "  --sklearn-color-icon: #696969;\n",
              "\n",
              "  @media (prefers-color-scheme: dark) {\n",
              "    /* Redefinition of color scheme for dark theme */\n",
              "    --sklearn-color-text-on-default-background: var(--sg-text-color, var(--theme-code-foreground, var(--jp-content-font-color1, white)));\n",
              "    --sklearn-color-background: var(--sg-background-color, var(--theme-background, var(--jp-layout-color0, #111)));\n",
              "    --sklearn-color-border-box: var(--sg-text-color, var(--theme-code-foreground, var(--jp-content-font-color1, white)));\n",
              "    --sklearn-color-icon: #878787;\n",
              "  }\n",
              "}\n",
              "\n",
              "#sk-container-id-1 {\n",
              "  color: var(--sklearn-color-text);\n",
              "}\n",
              "\n",
              "#sk-container-id-1 pre {\n",
              "  padding: 0;\n",
              "}\n",
              "\n",
              "#sk-container-id-1 input.sk-hidden--visually {\n",
              "  border: 0;\n",
              "  clip: rect(1px 1px 1px 1px);\n",
              "  clip: rect(1px, 1px, 1px, 1px);\n",
              "  height: 1px;\n",
              "  margin: -1px;\n",
              "  overflow: hidden;\n",
              "  padding: 0;\n",
              "  position: absolute;\n",
              "  width: 1px;\n",
              "}\n",
              "\n",
              "#sk-container-id-1 div.sk-dashed-wrapped {\n",
              "  border: 1px dashed var(--sklearn-color-line);\n",
              "  margin: 0 0.4em 0.5em 0.4em;\n",
              "  box-sizing: border-box;\n",
              "  padding-bottom: 0.4em;\n",
              "  background-color: var(--sklearn-color-background);\n",
              "}\n",
              "\n",
              "#sk-container-id-1 div.sk-container {\n",
              "  /* jupyter's `normalize.less` sets `[hidden] { display: none; }`\n",
              "     but bootstrap.min.css set `[hidden] { display: none !important; }`\n",
              "     so we also need the `!important` here to be able to override the\n",
              "     default hidden behavior on the sphinx rendered scikit-learn.org.\n",
              "     See: https://github.com/scikit-learn/scikit-learn/issues/21755 */\n",
              "  display: inline-block !important;\n",
              "  position: relative;\n",
              "}\n",
              "\n",
              "#sk-container-id-1 div.sk-text-repr-fallback {\n",
              "  display: none;\n",
              "}\n",
              "\n",
              "div.sk-parallel-item,\n",
              "div.sk-serial,\n",
              "div.sk-item {\n",
              "  /* draw centered vertical line to link estimators */\n",
              "  background-image: linear-gradient(var(--sklearn-color-text-on-default-background), var(--sklearn-color-text-on-default-background));\n",
              "  background-size: 2px 100%;\n",
              "  background-repeat: no-repeat;\n",
              "  background-position: center center;\n",
              "}\n",
              "\n",
              "/* Parallel-specific style estimator block */\n",
              "\n",
              "#sk-container-id-1 div.sk-parallel-item::after {\n",
              "  content: \"\";\n",
              "  width: 100%;\n",
              "  border-bottom: 2px solid var(--sklearn-color-text-on-default-background);\n",
              "  flex-grow: 1;\n",
              "}\n",
              "\n",
              "#sk-container-id-1 div.sk-parallel {\n",
              "  display: flex;\n",
              "  align-items: stretch;\n",
              "  justify-content: center;\n",
              "  background-color: var(--sklearn-color-background);\n",
              "  position: relative;\n",
              "}\n",
              "\n",
              "#sk-container-id-1 div.sk-parallel-item {\n",
              "  display: flex;\n",
              "  flex-direction: column;\n",
              "}\n",
              "\n",
              "#sk-container-id-1 div.sk-parallel-item:first-child::after {\n",
              "  align-self: flex-end;\n",
              "  width: 50%;\n",
              "}\n",
              "\n",
              "#sk-container-id-1 div.sk-parallel-item:last-child::after {\n",
              "  align-self: flex-start;\n",
              "  width: 50%;\n",
              "}\n",
              "\n",
              "#sk-container-id-1 div.sk-parallel-item:only-child::after {\n",
              "  width: 0;\n",
              "}\n",
              "\n",
              "/* Serial-specific style estimator block */\n",
              "\n",
              "#sk-container-id-1 div.sk-serial {\n",
              "  display: flex;\n",
              "  flex-direction: column;\n",
              "  align-items: center;\n",
              "  background-color: var(--sklearn-color-background);\n",
              "  padding-right: 1em;\n",
              "  padding-left: 1em;\n",
              "}\n",
              "\n",
              "\n",
              "/* Toggleable style: style used for estimator/Pipeline/ColumnTransformer box that is\n",
              "clickable and can be expanded/collapsed.\n",
              "- Pipeline and ColumnTransformer use this feature and define the default style\n",
              "- Estimators will overwrite some part of the style using the `sk-estimator` class\n",
              "*/\n",
              "\n",
              "/* Pipeline and ColumnTransformer style (default) */\n",
              "\n",
              "#sk-container-id-1 div.sk-toggleable {\n",
              "  /* Default theme specific background. It is overwritten whether we have a\n",
              "  specific estimator or a Pipeline/ColumnTransformer */\n",
              "  background-color: var(--sklearn-color-background);\n",
              "}\n",
              "\n",
              "/* Toggleable label */\n",
              "#sk-container-id-1 label.sk-toggleable__label {\n",
              "  cursor: pointer;\n",
              "  display: flex;\n",
              "  width: 100%;\n",
              "  margin-bottom: 0;\n",
              "  padding: 0.5em;\n",
              "  box-sizing: border-box;\n",
              "  text-align: center;\n",
              "  align-items: start;\n",
              "  justify-content: space-between;\n",
              "  gap: 0.5em;\n",
              "}\n",
              "\n",
              "#sk-container-id-1 label.sk-toggleable__label .caption {\n",
              "  font-size: 0.6rem;\n",
              "  font-weight: lighter;\n",
              "  color: var(--sklearn-color-text-muted);\n",
              "}\n",
              "\n",
              "#sk-container-id-1 label.sk-toggleable__label-arrow:before {\n",
              "  /* Arrow on the left of the label */\n",
              "  content: \"▸\";\n",
              "  float: left;\n",
              "  margin-right: 0.25em;\n",
              "  color: var(--sklearn-color-icon);\n",
              "}\n",
              "\n",
              "#sk-container-id-1 label.sk-toggleable__label-arrow:hover:before {\n",
              "  color: var(--sklearn-color-text);\n",
              "}\n",
              "\n",
              "/* Toggleable content - dropdown */\n",
              "\n",
              "#sk-container-id-1 div.sk-toggleable__content {\n",
              "  max-height: 0;\n",
              "  max-width: 0;\n",
              "  overflow: hidden;\n",
              "  text-align: left;\n",
              "  /* unfitted */\n",
              "  background-color: var(--sklearn-color-unfitted-level-0);\n",
              "}\n",
              "\n",
              "#sk-container-id-1 div.sk-toggleable__content.fitted {\n",
              "  /* fitted */\n",
              "  background-color: var(--sklearn-color-fitted-level-0);\n",
              "}\n",
              "\n",
              "#sk-container-id-1 div.sk-toggleable__content pre {\n",
              "  margin: 0.2em;\n",
              "  border-radius: 0.25em;\n",
              "  color: var(--sklearn-color-text);\n",
              "  /* unfitted */\n",
              "  background-color: var(--sklearn-color-unfitted-level-0);\n",
              "}\n",
              "\n",
              "#sk-container-id-1 div.sk-toggleable__content.fitted pre {\n",
              "  /* unfitted */\n",
              "  background-color: var(--sklearn-color-fitted-level-0);\n",
              "}\n",
              "\n",
              "#sk-container-id-1 input.sk-toggleable__control:checked~div.sk-toggleable__content {\n",
              "  /* Expand drop-down */\n",
              "  max-height: 200px;\n",
              "  max-width: 100%;\n",
              "  overflow: auto;\n",
              "}\n",
              "\n",
              "#sk-container-id-1 input.sk-toggleable__control:checked~label.sk-toggleable__label-arrow:before {\n",
              "  content: \"▾\";\n",
              "}\n",
              "\n",
              "/* Pipeline/ColumnTransformer-specific style */\n",
              "\n",
              "#sk-container-id-1 div.sk-label input.sk-toggleable__control:checked~label.sk-toggleable__label {\n",
              "  color: var(--sklearn-color-text);\n",
              "  background-color: var(--sklearn-color-unfitted-level-2);\n",
              "}\n",
              "\n",
              "#sk-container-id-1 div.sk-label.fitted input.sk-toggleable__control:checked~label.sk-toggleable__label {\n",
              "  background-color: var(--sklearn-color-fitted-level-2);\n",
              "}\n",
              "\n",
              "/* Estimator-specific style */\n",
              "\n",
              "/* Colorize estimator box */\n",
              "#sk-container-id-1 div.sk-estimator input.sk-toggleable__control:checked~label.sk-toggleable__label {\n",
              "  /* unfitted */\n",
              "  background-color: var(--sklearn-color-unfitted-level-2);\n",
              "}\n",
              "\n",
              "#sk-container-id-1 div.sk-estimator.fitted input.sk-toggleable__control:checked~label.sk-toggleable__label {\n",
              "  /* fitted */\n",
              "  background-color: var(--sklearn-color-fitted-level-2);\n",
              "}\n",
              "\n",
              "#sk-container-id-1 div.sk-label label.sk-toggleable__label,\n",
              "#sk-container-id-1 div.sk-label label {\n",
              "  /* The background is the default theme color */\n",
              "  color: var(--sklearn-color-text-on-default-background);\n",
              "}\n",
              "\n",
              "/* On hover, darken the color of the background */\n",
              "#sk-container-id-1 div.sk-label:hover label.sk-toggleable__label {\n",
              "  color: var(--sklearn-color-text);\n",
              "  background-color: var(--sklearn-color-unfitted-level-2);\n",
              "}\n",
              "\n",
              "/* Label box, darken color on hover, fitted */\n",
              "#sk-container-id-1 div.sk-label.fitted:hover label.sk-toggleable__label.fitted {\n",
              "  color: var(--sklearn-color-text);\n",
              "  background-color: var(--sklearn-color-fitted-level-2);\n",
              "}\n",
              "\n",
              "/* Estimator label */\n",
              "\n",
              "#sk-container-id-1 div.sk-label label {\n",
              "  font-family: monospace;\n",
              "  font-weight: bold;\n",
              "  display: inline-block;\n",
              "  line-height: 1.2em;\n",
              "}\n",
              "\n",
              "#sk-container-id-1 div.sk-label-container {\n",
              "  text-align: center;\n",
              "}\n",
              "\n",
              "/* Estimator-specific */\n",
              "#sk-container-id-1 div.sk-estimator {\n",
              "  font-family: monospace;\n",
              "  border: 1px dotted var(--sklearn-color-border-box);\n",
              "  border-radius: 0.25em;\n",
              "  box-sizing: border-box;\n",
              "  margin-bottom: 0.5em;\n",
              "  /* unfitted */\n",
              "  background-color: var(--sklearn-color-unfitted-level-0);\n",
              "}\n",
              "\n",
              "#sk-container-id-1 div.sk-estimator.fitted {\n",
              "  /* fitted */\n",
              "  background-color: var(--sklearn-color-fitted-level-0);\n",
              "}\n",
              "\n",
              "/* on hover */\n",
              "#sk-container-id-1 div.sk-estimator:hover {\n",
              "  /* unfitted */\n",
              "  background-color: var(--sklearn-color-unfitted-level-2);\n",
              "}\n",
              "\n",
              "#sk-container-id-1 div.sk-estimator.fitted:hover {\n",
              "  /* fitted */\n",
              "  background-color: var(--sklearn-color-fitted-level-2);\n",
              "}\n",
              "\n",
              "/* Specification for estimator info (e.g. \"i\" and \"?\") */\n",
              "\n",
              "/* Common style for \"i\" and \"?\" */\n",
              "\n",
              ".sk-estimator-doc-link,\n",
              "a:link.sk-estimator-doc-link,\n",
              "a:visited.sk-estimator-doc-link {\n",
              "  float: right;\n",
              "  font-size: smaller;\n",
              "  line-height: 1em;\n",
              "  font-family: monospace;\n",
              "  background-color: var(--sklearn-color-background);\n",
              "  border-radius: 1em;\n",
              "  height: 1em;\n",
              "  width: 1em;\n",
              "  text-decoration: none !important;\n",
              "  margin-left: 0.5em;\n",
              "  text-align: center;\n",
              "  /* unfitted */\n",
              "  border: var(--sklearn-color-unfitted-level-1) 1pt solid;\n",
              "  color: var(--sklearn-color-unfitted-level-1);\n",
              "}\n",
              "\n",
              ".sk-estimator-doc-link.fitted,\n",
              "a:link.sk-estimator-doc-link.fitted,\n",
              "a:visited.sk-estimator-doc-link.fitted {\n",
              "  /* fitted */\n",
              "  border: var(--sklearn-color-fitted-level-1) 1pt solid;\n",
              "  color: var(--sklearn-color-fitted-level-1);\n",
              "}\n",
              "\n",
              "/* On hover */\n",
              "div.sk-estimator:hover .sk-estimator-doc-link:hover,\n",
              ".sk-estimator-doc-link:hover,\n",
              "div.sk-label-container:hover .sk-estimator-doc-link:hover,\n",
              ".sk-estimator-doc-link:hover {\n",
              "  /* unfitted */\n",
              "  background-color: var(--sklearn-color-unfitted-level-3);\n",
              "  color: var(--sklearn-color-background);\n",
              "  text-decoration: none;\n",
              "}\n",
              "\n",
              "div.sk-estimator.fitted:hover .sk-estimator-doc-link.fitted:hover,\n",
              ".sk-estimator-doc-link.fitted:hover,\n",
              "div.sk-label-container:hover .sk-estimator-doc-link.fitted:hover,\n",
              ".sk-estimator-doc-link.fitted:hover {\n",
              "  /* fitted */\n",
              "  background-color: var(--sklearn-color-fitted-level-3);\n",
              "  color: var(--sklearn-color-background);\n",
              "  text-decoration: none;\n",
              "}\n",
              "\n",
              "/* Span, style for the box shown on hovering the info icon */\n",
              ".sk-estimator-doc-link span {\n",
              "  display: none;\n",
              "  z-index: 9999;\n",
              "  position: relative;\n",
              "  font-weight: normal;\n",
              "  right: .2ex;\n",
              "  padding: .5ex;\n",
              "  margin: .5ex;\n",
              "  width: min-content;\n",
              "  min-width: 20ex;\n",
              "  max-width: 50ex;\n",
              "  color: var(--sklearn-color-text);\n",
              "  box-shadow: 2pt 2pt 4pt #999;\n",
              "  /* unfitted */\n",
              "  background: var(--sklearn-color-unfitted-level-0);\n",
              "  border: .5pt solid var(--sklearn-color-unfitted-level-3);\n",
              "}\n",
              "\n",
              ".sk-estimator-doc-link.fitted span {\n",
              "  /* fitted */\n",
              "  background: var(--sklearn-color-fitted-level-0);\n",
              "  border: var(--sklearn-color-fitted-level-3);\n",
              "}\n",
              "\n",
              ".sk-estimator-doc-link:hover span {\n",
              "  display: block;\n",
              "}\n",
              "\n",
              "/* \"?\"-specific style due to the `<a>` HTML tag */\n",
              "\n",
              "#sk-container-id-1 a.estimator_doc_link {\n",
              "  float: right;\n",
              "  font-size: 1rem;\n",
              "  line-height: 1em;\n",
              "  font-family: monospace;\n",
              "  background-color: var(--sklearn-color-background);\n",
              "  border-radius: 1rem;\n",
              "  height: 1rem;\n",
              "  width: 1rem;\n",
              "  text-decoration: none;\n",
              "  /* unfitted */\n",
              "  color: var(--sklearn-color-unfitted-level-1);\n",
              "  border: var(--sklearn-color-unfitted-level-1) 1pt solid;\n",
              "}\n",
              "\n",
              "#sk-container-id-1 a.estimator_doc_link.fitted {\n",
              "  /* fitted */\n",
              "  border: var(--sklearn-color-fitted-level-1) 1pt solid;\n",
              "  color: var(--sklearn-color-fitted-level-1);\n",
              "}\n",
              "\n",
              "/* On hover */\n",
              "#sk-container-id-1 a.estimator_doc_link:hover {\n",
              "  /* unfitted */\n",
              "  background-color: var(--sklearn-color-unfitted-level-3);\n",
              "  color: var(--sklearn-color-background);\n",
              "  text-decoration: none;\n",
              "}\n",
              "\n",
              "#sk-container-id-1 a.estimator_doc_link.fitted:hover {\n",
              "  /* fitted */\n",
              "  background-color: var(--sklearn-color-fitted-level-3);\n",
              "}\n",
              "</style><div id=\"sk-container-id-1\" class=\"sk-top-container\"><div class=\"sk-text-repr-fallback\"><pre>LinearRegression()</pre><b>In a Jupyter environment, please rerun this cell to show the HTML representation or trust the notebook. <br />On GitHub, the HTML representation is unable to render, please try loading this page with nbviewer.org.</b></div><div class=\"sk-container\" hidden><div class=\"sk-item\"><div class=\"sk-estimator fitted sk-toggleable\"><input class=\"sk-toggleable__control sk-hidden--visually\" id=\"sk-estimator-id-1\" type=\"checkbox\" checked><label for=\"sk-estimator-id-1\" class=\"sk-toggleable__label fitted sk-toggleable__label-arrow\"><div><div>LinearRegression</div></div><div><a class=\"sk-estimator-doc-link fitted\" rel=\"noreferrer\" target=\"_blank\" href=\"https://scikit-learn.org/1.6/modules/generated/sklearn.linear_model.LinearRegression.html\">?<span>Documentation for LinearRegression</span></a><span class=\"sk-estimator-doc-link fitted\">i<span>Fitted</span></span></div></label><div class=\"sk-toggleable__content fitted\"><pre>LinearRegression()</pre></div> </div></div></div></div>"
            ]
          },
          "metadata": {},
          "execution_count": 61
        }
      ]
    },
    {
      "cell_type": "code",
      "source": [
        "print(lr.score(X_test_poly, y_test))\n",
        "print(lr.score(X_train_poly, y_train))\n",
        "from sklearn.metrics import mean_absolute_error, mean_squared_error, r2_score\n",
        "y_pred = lr.predict(X_test_poly)\n",
        "\n",
        "print(\"MSE: \" + str(mean_squared_error(y_test, y_pred)))\n",
        "print(\"R2: \" + str(r2_score(y_test, y_pred)))"
      ],
      "metadata": {
        "colab": {
          "base_uri": "https://localhost:8080/"
        },
        "id": "Sm6embdOhR5d",
        "outputId": "f43b6d6a-3d77-457b-add2-125356f4952c"
      },
      "execution_count": 62,
      "outputs": [
        {
          "output_type": "stream",
          "name": "stdout",
          "text": [
            "0.06912216531573334\n",
            "0.0719351730889054\n",
            "MSE: 0.2326776094121198\n",
            "R2: 0.06912216531573334\n"
          ]
        }
      ]
    },
    {
      "cell_type": "code",
      "source": [
        "print(\"percent accuracy: \" + str(100*((lr.score(X_train_poly, y_train))/(lr.score(X_test_poly, y_test)))) +\"%\")"
      ],
      "metadata": {
        "colab": {
          "base_uri": "https://localhost:8080/"
        },
        "id": "WwetYFmSw9Ba",
        "outputId": "0fd6492c-0e3b-4e00-da93-8295cd90e3fd"
      },
      "execution_count": 63,
      "outputs": [
        {
          "output_type": "stream",
          "name": "stdout",
          "text": [
            "percent accuracy: 104.06961755367894%\n"
          ]
        }
      ]
    },
    {
      "cell_type": "code",
      "source": [
        "def sigmoid(x):\n",
        "    return 1 / (1 + np.exp(-x))\n",
        "\n",
        "y_prob = sigmoid(y_pred)"
      ],
      "metadata": {
        "id": "ZXLfnT8boxkU"
      },
      "execution_count": 64,
      "outputs": []
    },
    {
      "cell_type": "code",
      "source": [
        "# Function to get final Elo rating of a given team\n",
        "def get_team_elo(team_name):\n",
        "    if team_name in final_elo_ratings:\n",
        "        return f\"Final Elo rating for {team_name}: {final_elo_ratings[team_name]}\"\n",
        "    else:\n",
        "        return f\"Team {team_name} not found in the final Elo ratings.\"\n",
        "\n",
        "print(get_team_elo(input(\"Enter team name: \")))"
      ],
      "metadata": {
        "colab": {
          "base_uri": "https://localhost:8080/"
        },
        "id": "GBYU0perPsms",
        "outputId": "2841e468-36e8-4e63-b7bc-f64501874b7f"
      },
      "execution_count": 78,
      "outputs": [
        {
          "output_type": "stream",
          "name": "stdout",
          "text": [
            "Enter team name: rhode_island_rams\n",
            "Final Elo rating for rhode_island_rams: 4358.686267270726\n"
          ]
        }
      ]
    },
    {
      "cell_type": "code",
      "source": [
        "R_A = 3943.7\n",
        "R_B = 4253.8\n",
        "AP = 1 / (1 + 10 ** ((R_B - R_A) / 400))\n",
        "BP = 1 - AP\n",
        "print(\"AP = \" + str(AP))\n",
        "print(\"BP = \" + str(BP))"
      ],
      "metadata": {
        "colab": {
          "base_uri": "https://localhost:8080/"
        },
        "id": "irRwCWoBFC3y",
        "outputId": "47060788-3f4b-4d42-a990-0db7b0ebf27f"
      },
      "execution_count": 42,
      "outputs": [
        {
          "output_type": "stream",
          "name": "stdout",
          "text": [
            "AP = 0.14367710131477707\n",
            "BP = 0.8563228986852229\n"
          ]
        }
      ]
    },
    {
      "cell_type": "code",
      "source": [
        "import numpy as np\n",
        "'notD1_incomplete', 'rest_days', 'home_away_NS', 'travel_dist', 'expected_win_prob'\n",
        "\n",
        "def sigmoid(x):\n",
        "    return 1 / (1 + np.exp(-x))\n",
        "\n",
        "new_data_poly = poly.transform(np.array([[0, 7, 0, 350, 0.14367710131477707]]))"
      ],
      "metadata": {
        "colab": {
          "base_uri": "https://localhost:8080/"
        },
        "id": "_U-siBxXEHbq",
        "outputId": "25eb7d79-2957-4955-81a4-aab6869cc75f"
      },
      "execution_count": 66,
      "outputs": [
        {
          "output_type": "stream",
          "name": "stderr",
          "text": [
            "/usr/local/lib/python3.11/dist-packages/sklearn/utils/validation.py:2739: UserWarning: X does not have valid feature names, but PolynomialFeatures was fitted with feature names\n",
            "  warnings.warn(\n"
          ]
        }
      ]
    },
    {
      "cell_type": "code",
      "source": [
        "predicted_win_percentage = lr.predict(new_data_poly)\n",
        "win_probability = sigmoid(predicted_win_percentage)\n",
        "\n",
        "print(f\"Predicted Win Probability: {win_probability[0]:.4f}\")"
      ],
      "metadata": {
        "colab": {
          "base_uri": "https://localhost:8080/"
        },
        "id": "zFK_5dbXZwm6",
        "outputId": "e925a51d-272c-4877-973b-83e721c228fc"
      },
      "execution_count": 67,
      "outputs": [
        {
          "output_type": "stream",
          "name": "stdout",
          "text": [
            "Predicted Win Probability: 0.6563\n"
          ]
        }
      ]
    },
    {
      "cell_type": "code",
      "source": [
        "print(lr.n_features_in_)\n",
        "print(X_train_poly.shape)\n",
        "print(new_data_poly.shape)"
      ],
      "metadata": {
        "colab": {
          "base_uri": "https://localhost:8080/"
        },
        "id": "It3Ftpz4YvX7",
        "outputId": "a439d29b-15ca-429c-ff98-8d775e23c18a"
      },
      "execution_count": 68,
      "outputs": [
        {
          "output_type": "stream",
          "name": "stdout",
          "text": [
            "21\n",
            "(7306, 21)\n",
            "(1, 21)\n"
          ]
        }
      ]
    },
    {
      "cell_type": "code",
      "source": [
        "lr.coef_"
      ],
      "metadata": {
        "colab": {
          "base_uri": "https://localhost:8080/"
        },
        "id": "kCZ_sZMfl-xs",
        "outputId": "a9773909-57f6-477e-a0b6-8a4d69e98c8a"
      },
      "execution_count": 69,
      "outputs": [
        {
          "output_type": "execute_result",
          "data": {
            "text/plain": [
              "array([ 0.00000000e+00, -3.17202176e-01, -2.69720684e-03,  9.47224338e-02,\n",
              "       -1.74201010e-04, -1.15532584e-15, -3.17202177e-01,  8.67361738e-18,\n",
              "       -2.75960668e-01, -5.55111512e-17, -1.58601088e-01,  8.36172846e-05,\n",
              "       -5.42036855e-03, -3.35788973e-06, -1.34860342e-03, -2.15218014e-01,\n",
              "        1.05155335e-02,  4.73612169e-02,  3.90347098e-08, -8.71005048e-05,\n",
              "        0.00000000e+00])"
            ]
          },
          "metadata": {},
          "execution_count": 69
        }
      ]
    },
    {
      "cell_type": "code",
      "source": [
        "lr.intercept_"
      ],
      "metadata": {
        "colab": {
          "base_uri": "https://localhost:8080/"
        },
        "id": "GKhGCfA3nGm4",
        "outputId": "1697bed7-5577-4a12-be8f-a15c360c2a06"
      },
      "execution_count": 70,
      "outputs": [
        {
          "output_type": "execute_result",
          "data": {
            "text/plain": [
              "np.float64(0.7319758789149666)"
            ]
          },
          "metadata": {},
          "execution_count": 70
        }
      ]
    },
    {
      "cell_type": "code",
      "source": [
        "#predicting the necessary weights\n",
        "import pandas as pd\n",
        "from sklearn.linear_model import LogisticRegression\n",
        "from sklearn.model_selection import train_test_split\n",
        "from sklearn.preprocessing import StandardScaler\n",
        "# Merge dataset on game_id to pair teams\n",
        "df1= pd.read_csv('Copy of games_2022 - games_2022.csv')\n",
        "df_games = df1.merge(df, on=\"game_id\", suffixes=(\"_A\", \"_B\"))\n",
        "\n",
        "# Keep only valid matchups (team_A ≠ team_B)\n",
        "df_games = df_games[df_games[\"team_A\"] != df_games[\"team_B\"]]\n",
        "\n",
        "# Select necessary columns\n",
        "columns_needed = [\n",
        "    \"team_A\", \"team_B\", \"team_score_A\", \"team_score_B\",\n",
        "    \"FGA_3_A\", \"FGM_3_A\", \"FGA_2_A\", \"FGM_2_A\", \"FTA_A\", \"FTM_A\",\n",
        "    \"AST_A\", \"BLK_A\", \"STL_A\", \"TOV_A\", \"DREB_A\", \"OREB_A\",\n",
        "    \"FGA_3_B\", \"FGM_3_B\", \"FGA_2_B\", \"FGM_2_B\", \"FTA_B\", \"FTM_B\",\n",
        "    \"AST_B\", \"BLK_B\", \"STL_B\", \"TOV_B\", \"DREB_B\", \"OREB_B\"\n",
        "]\n",
        "\n",
        "df_games = df_games[columns_needed].drop_duplicates()\n",
        "\n",
        "# Save formatted dataset\n",
        "df_games.to_csv(\"formatted_games.csv\", index=False)\n",
        "print(\"Formatted dataset saved successfully.\")\n",
        "\n",
        "# Load your historical game data\n",
        "# The CSV should include columns: AST_A, AST_B, BLK_A, BLK_B, STL_A, STL_B, TOV_A, TOV_B, DREB_A, DREB_B, OREB_A, OREB_B, and 'result'\n",
        "# where 'result' is 1 if Team A won, 0 otherwise.\n",
        "df3 = pd.read_csv('formatted_games.csv')\n",
        "\n",
        "# Calculate differences for each advanced stat\n",
        "stat_list = ['AST', 'BLK', 'STL', 'TOV', 'DREB', 'OREB']\n",
        "for stat in stat_list:\n",
        "    df3[f'{stat}_diff'] = df3[f'{stat}_A'] - df3[f'{stat}_B']\n",
        "# Determine the result column (1 if Team A won, 0 otherwise)\n",
        "df3['result'] = (df3['team_score_A'] > df3['team_score_B']).astype(int)\n",
        "# Select features and target\n",
        "X = df3[[f'{stat}_diff' for stat in stat_list]]\n",
        "y = df3['result']  # Binary outcome: 1 if Team A wins, 0 if not\n",
        "\n",
        "# Optional: Standardize features (helps with convergence and interpretability)\n",
        "scaler = StandardScaler()\n",
        "X_scaled = scaler.fit_transform(X)\n",
        "\n",
        "# Split data into training and testing sets\n",
        "X_train, X_test, y_train, y_test = train_test_split(X_scaled, y, test_size=0.2, random_state=42)\n",
        "\n",
        "# Train the logistic regression model\n",
        "model = LogisticRegression()\n",
        "model.fit(X_train, y_train)\n",
        "\n",
        "# Retrieve the learned coefficients\n",
        "learned_coeffs = model.coef_[0]\n",
        "\n",
        "# Map coefficients to the stat_weighting dictionary\n",
        "predicted_stat_weighting = dict(zip(stat_list, learned_coeffs))\n",
        "print(\"Predicted advanced stat weights:\", predicted_stat_weighting)\n"
      ],
      "metadata": {
        "colab": {
          "base_uri": "https://localhost:8080/"
        },
        "id": "xAxC6IfgVVRe",
        "outputId": "9c4e2ffe-6ae5-4a28-bbdf-91246f2bf237"
      },
      "execution_count": 71,
      "outputs": [
        {
          "output_type": "stream",
          "name": "stdout",
          "text": [
            "Formatted dataset saved successfully.\n",
            "Predicted advanced stat weights: {'AST': np.float64(1.2096897813756242), 'BLK': np.float64(0.11042661188571096), 'STL': np.float64(0.17530226167983687), 'TOV': np.float64(-4.651538446135684), 'DREB': np.float64(5.467526587946814), 'OREB': np.float64(-0.1640695983610269)}\n"
          ]
        }
      ]
    },
    {
      "cell_type": "code",
      "source": [
        "#ELO model\n",
        "\n",
        "import pandas as pd\n",
        "import numpy as np\n",
        "\n",
        "# Initialize Elo ratings dictionary\n",
        "elo_ratings = {}  # This will store each team's current Elo rating\n",
        "\n",
        "def get_elo(team):\n",
        "    \"\"\"Retrieve the team's current Elo rating. If they don't have one, assign default 1500.\"\"\"\n",
        "    if team not in elo_ratings:\n",
        "        elo_ratings[team] = 1500  # Default starting Elo\n",
        "    return elo_ratings[team]\n",
        "\n",
        "#logistic function which calculates exprected win prob for team_A\n",
        "def expected_win_prob(team_A, team_B):\n",
        "    \"\"\"Calculate the probability of Team A winning against Team B based on Elo ratings.\"\"\"\n",
        "    R_A = get_elo(team_A)\n",
        "    R_B = get_elo(team_B)\n",
        "    return 1 / (1 + 10 ** ((R_B - R_A) / 400))\n",
        "\n",
        "#all this stuff below is to adjust the elo rating. look at elo update functions: it's based off what the expected win percentage was\n",
        "\n",
        "def update_elo_with_advanced_stats(team_A, team_B, score_A, score_B,\n",
        "                                   FGM_3_A, FGA_3_A, FGM_2_A, FGA_2_A, FTM_A, FTA_A, AST_A, BLK_A, STL_A, TOV_A, DREB_A, OREB_A,\n",
        "                                   FGM_3_B, FGA_3_B, FGM_2_B, FGA_2_B, FTM_B, FTA_B, AST_B, BLK_B, STL_B, TOV_B, DREB_B, OREB_B):\n",
        "    \"\"\"Update Elo ratings with shooting efficiency and advanced stats like AST, BLK, STL, TOV, REB.\"\"\"\n",
        "\n",
        "    K = 40 #adjust based on rate of change for elo\n",
        "\n",
        "    P_A = expected_win_prob(team_A, team_B)  # Expected probability of Team A winning\n",
        "    P_B = 1 - P_A  # Expected probability of Team B winning\n",
        "\n",
        "    # Determine actual result\n",
        "    S_A, S_B = (1, 0) if score_A > score_B else (0, 1)  # 1 if win, 0 if loss\n",
        "\n",
        "    # Calculate shooting efficiencies\n",
        "    eff_3_A = FGM_3_A / FGA_3_A if FGA_3_A > 0 else 0  # 3PT efficiency\n",
        "    eff_2_A = FGM_2_A / FGA_2_A if FGA_2_A > 0 else 0  # 2PT efficiency\n",
        "    eff_ft_A = FTM_A / FTA_A if FTA_A > 0 else 0       # Free throw efficiency\n",
        "\n",
        "    eff_3_B = FGM_3_B / FGA_3_B if FGA_3_B > 0 else 0\n",
        "    eff_2_B = FGM_2_B / FGA_2_B if FGA_2_B > 0 else 0\n",
        "    eff_ft_B = FTM_B / FTA_B if FTA_B > 0 else 0\n",
        "\n",
        "    # Performance-based adjustments\n",
        "    performance_factor = 10\n",
        "\n",
        "    shooting_adjustment_A = performance_factor * (\n",
        "        (eff_3_A - 0.35) + (eff_2_A - 0.50) + (eff_ft_A - 0.75)\n",
        "    )\n",
        "    shooting_adjustment_B = performance_factor * (\n",
        "        (eff_3_B - 0.35) + (eff_2_B - 0.50) + (eff_ft_B - 0.75)\n",
        "    )\n",
        "\n",
        "    # Advanced stat impact\n",
        "    stat_weighting = predicted_stat_weighting\n",
        "\n",
        "    advanced_stat_adjustment_A = (\n",
        "        AST_A * stat_weighting[\"AST\"] +\n",
        "        BLK_A * stat_weighting[\"BLK\"] +\n",
        "        STL_A * stat_weighting[\"STL\"] +\n",
        "        TOV_A * stat_weighting[\"TOV\"] +\n",
        "        DREB_A * stat_weighting[\"DREB\"] +\n",
        "        OREB_A * stat_weighting[\"OREB\"]\n",
        "    )\n",
        "\n",
        "    advanced_stat_adjustment_B = (\n",
        "        AST_B * stat_weighting[\"AST\"] +\n",
        "        BLK_B * stat_weighting[\"BLK\"] +\n",
        "        STL_B * stat_weighting[\"STL\"] +\n",
        "        TOV_B * stat_weighting[\"TOV\"] +\n",
        "        DREB_B * stat_weighting[\"DREB\"] +\n",
        "        OREB_B * stat_weighting[\"OREB\"]\n",
        "    )\n",
        "\n",
        "    # Final Elo update\n",
        "    elo_ratings[team_A] = get_elo(team_A) + K * (S_A - P_A) + shooting_adjustment_A + advanced_stat_adjustment_A\n",
        "    elo_ratings[team_B] = get_elo(team_B) + K * (S_B - P_B) + shooting_adjustment_B + advanced_stat_adjustment_B\n",
        "    return elo_ratings[team_A], elo_ratings[team_B]"
      ],
      "metadata": {
        "id": "WYMSluO3t1wk"
      },
      "execution_count": 72,
      "outputs": []
    },
    {
      "cell_type": "code",
      "source": [
        "df2 = df.drop(columns=['game_date', 'F_tech', 'F_personal', 'largest_lead', 'OT_length_min_tot', 'attendance', 'tz_dif_H_E', 'prev_game_dist', 'rest_days', 'home_away', 'home_away_NS',\n",
        "       'travel_dist', 'TOV_team'])\n",
        "\n",
        "df2.columns\n",
        "print(df2.head())"
      ],
      "metadata": {
        "colab": {
          "base_uri": "https://localhost:8080/"
        },
        "id": "K0aJboC7dFaX",
        "outputId": "f0ded62e-0e2a-4dd0-89d0-63df1f7d9c8a"
      },
      "execution_count": 47,
      "outputs": [
        {
          "output_type": "stream",
          "name": "stdout",
          "text": [
            "          game_id                       team  FGA_2  FGM_2  FGA_3  FGM_3  FTA  \\\n",
            "0  game_2022_2011      georgia_lady_bulldogs     50     22     11      5    6   \n",
            "1  game_2022_2011                 lsu_tigers     50     24     11      4   15   \n",
            "2  game_2022_2012            missouri_tigers     43     18     15      7   16   \n",
            "3  game_2022_2012   south_carolina_gamecocks     55     23     21      6    9   \n",
            "4  game_2022_2013  tennessee_lady_volunteers     41     20     15      4   15   \n",
            "\n",
            "   FTM  AST  BLK  STL  TOV  DREB  OREB  team_score  opponent_team_score  \\\n",
            "0    3   14    7    7   18    25    11          62                   68   \n",
            "1    8   15    2   15   14    25    11          68                   62   \n",
            "2   13   10    1    4    8    31     6          70                   69   \n",
            "3    5   15    8    3    8    27    20          69                   70   \n",
            "4   10   16    8    5   15    34    12          62                   44   \n",
            "\n",
            "   notD1_incomplete  win  \n",
            "0             False    0  \n",
            "1             False    1  \n",
            "2             False    1  \n",
            "3             False    0  \n",
            "4             False    1  \n"
          ]
        }
      ]
    },
    {
      "cell_type": "code",
      "source": [
        "final_elo_ratings = {}\n",
        "\n",
        "# Loop through every two rows (each game has two rows)\n",
        "for i in range(0, len(df), 2):\n",
        "    team_A = df2.iloc[i]  # First row (Team 1)\n",
        "    team_B = df2.iloc[i+1]  # Second row (Team 2)\n",
        "\n",
        "    # Call the Elo update function\n",
        "    new_elo_A, new_elo_B = update_elo_with_advanced_stats(\n",
        "        team_A['team'], team_B['team'], team_A['team_score'], team_B['team_score'],\n",
        "        team_A['FGM_3'], team_A['FGA_3'], team_A['FGM_2'], team_A['FGA_2'], team_A['FTM'], team_A['FTA'],\n",
        "        team_A['AST'], team_A['BLK'], team_A['STL'], team_A['TOV'], team_A['DREB'], team_A['OREB'],\n",
        "        team_B['FGM_3'], team_B['FGA_3'], team_B['FGM_2'], team_B['FGA_2'], team_B['FTM'], team_B['FTA'],\n",
        "        team_B['AST'], team_B['BLK'], team_B['STL'], team_B['TOV'], team_B['DREB'], team_B['OREB']\n",
        "        )\n",
        "    final_elo_ratings[team_A['team']] = new_elo_A\n",
        "    final_elo_ratings[team_B['team']] = new_elo_B\n",
        "\n",
        "# Convert to DataFrame for better visualization\n",
        "final_elo_df = pd.DataFrame(list(final_elo_ratings.items()), columns=['Team', 'Final_Elo'])\n",
        "final_elo_df = final_elo_df.sort_values(by='Team', ascending=False)\n",
        "\n",
        "# Display final Elo ratings\n",
        "print(final_elo_df)"
      ],
      "metadata": {
        "id": "Iz2E3bAC8NcO",
        "colab": {
          "base_uri": "https://localhost:8080/"
        },
        "outputId": "e985d1a8-f04c-4022-f7ad-1a73ec6183f1"
      },
      "execution_count": 48,
      "outputs": [
        {
          "output_type": "stream",
          "name": "stdout",
          "text": [
            "                                    Team    Final_Elo\n",
            "339            youngstown_state_penguins  4235.378107\n",
            "522  young_harris_college_mountain_lions  1575.086879\n",
            "262                        yale_bulldogs  3663.885995\n",
            "340                    xavier_musketeers  3747.915453\n",
            "371                  xavier_la_gold_rush  1499.978866\n",
            "..                                   ...          ...\n",
            "64                            akron_zips  3928.109213\n",
            "34                     air_force_falcons  3762.104896\n",
            "448         agnes_scott_college_scotties  1366.570866\n",
            "513         academy_of_art_urban_knights  1637.228798\n",
            "319           abilene_christian_wildcats  3675.141568\n",
            "\n",
            "[564 rows x 2 columns]\n"
          ]
        }
      ]
    },
    {
      "cell_type": "code",
      "source": [
        "import pickle\n",
        "\n",
        "with open('dictionary.pkl', 'wb') as f:\n",
        "    pickle.dump(elo_ratings, f)\n",
        "\n"
      ],
      "metadata": {
        "id": "6_46gOJlQoB8"
      },
      "execution_count": 51,
      "outputs": []
    },
    {
      "cell_type": "code",
      "source": [
        "for i in elo_ratings:\n",
        "  with open('tuff.csv', 'w', newline='') as csvfile:\n",
        "    writer= csv.writer(csvfile)\n",
        "    writer.writerows(loaded_dict)"
      ],
      "metadata": {
        "id": "6wzuPvhF2-le"
      },
      "execution_count": 76,
      "outputs": []
    },
    {
      "cell_type": "code",
      "source": [
        "print(expected_win_prob('rhode_island_rams', 'north_carolina_tar_heels')*100)\n",
        "print(expected_win_prob('nc_state_wolfpack', 'rhode.island_rams' )*100)\n",
        "print(expected_win_prob('nc_state_wolfpack', 'north_carolina_tar_heels' )*100)\n",
        "print(expected_win_prob('liberty_flames', 'bucknell_bison' )*100)\n",
        "print(expected_win_prob('drexel_dragons', 'delaware_blue_hens' )*100)\n",
        "print(expected_win_prob('massachusetts_minutewomen', 'princeton_tigers' )*100)\n",
        "print(expected_win_prob('buffalo_bulls', 'stony_brook_seawolves' )*100)\n",
        "print(expected_win_prob('fairfield_stags', 'towson_tigers' )*100)\n",
        "print(expected_win_prob('uconn_huskies', 'campbell_fighting_camels' )*100)\n",
        "print(expected_win_prob('american_university_eagles', 'columbia_lions' )*100)"
      ],
      "metadata": {
        "colab": {
          "base_uri": "https://localhost:8080/"
        },
        "id": "AVpuTfmORnv0",
        "outputId": "79ff3947-16be-45ef-879b-778f0d284c92"
      },
      "execution_count": 53,
      "outputs": [
        {
          "output_type": "stream",
          "name": "stdout",
          "text": [
            "22.427302695700543\n",
            "99.99999999643394\n",
            "99.82738181053841\n",
            "13.197778812638102\n",
            "73.1458578917229\n",
            "84.63975663125113\n",
            "99.42894301752492\n",
            "48.66728875822205\n",
            "99.9495814873903\n",
            "14.366764456413694\n"
          ]
        }
      ]
    },
    {
      "cell_type": "code",
      "source": [
        "dfsig = df.drop(columns=['game_date', 'F_tech', 'F_personal', 'largest_lead', 'OT_length_min_tot', 'attendance', 'tz_dif_H_E', 'prev_game_dist', 'rest_days', 'home_away', 'home_away_NS',\n",
        "       'travel_dist', 'TOV_team'])\n",
        "print(dfsig.head())\n",
        "dfsig.columns"
      ],
      "metadata": {
        "id": "0JzXrdrJSFsk",
        "colab": {
          "base_uri": "https://localhost:8080/"
        },
        "outputId": "e84ddfbe-6eaa-454b-c612-39f08058f0ed"
      },
      "execution_count": 54,
      "outputs": [
        {
          "output_type": "stream",
          "name": "stdout",
          "text": [
            "          game_id                       team  FGA_2  FGM_2  FGA_3  FGM_3  FTA  \\\n",
            "0  game_2022_2011      georgia_lady_bulldogs     50     22     11      5    6   \n",
            "1  game_2022_2011                 lsu_tigers     50     24     11      4   15   \n",
            "2  game_2022_2012            missouri_tigers     43     18     15      7   16   \n",
            "3  game_2022_2012   south_carolina_gamecocks     55     23     21      6    9   \n",
            "4  game_2022_2013  tennessee_lady_volunteers     41     20     15      4   15   \n",
            "\n",
            "   FTM  AST  BLK  STL  TOV  DREB  OREB  team_score  opponent_team_score  \\\n",
            "0    3   14    7    7   18    25    11          62                   68   \n",
            "1    8   15    2   15   14    25    11          68                   62   \n",
            "2   13   10    1    4    8    31     6          70                   69   \n",
            "3    5   15    8    3    8    27    20          69                   70   \n",
            "4   10   16    8    5   15    34    12          62                   44   \n",
            "\n",
            "   notD1_incomplete  win  \n",
            "0             False    0  \n",
            "1             False    1  \n",
            "2             False    1  \n",
            "3             False    0  \n",
            "4             False    1  \n"
          ]
        },
        {
          "output_type": "execute_result",
          "data": {
            "text/plain": [
              "Index(['game_id', 'team', 'FGA_2', 'FGM_2', 'FGA_3', 'FGM_3', 'FTA', 'FTM',\n",
              "       'AST', 'BLK', 'STL', 'TOV', 'DREB', 'OREB', 'team_score',\n",
              "       'opponent_team_score', 'notD1_incomplete', 'win'],\n",
              "      dtype='object')"
            ]
          },
          "metadata": {},
          "execution_count": 54
        }
      ]
    }
  ]
}