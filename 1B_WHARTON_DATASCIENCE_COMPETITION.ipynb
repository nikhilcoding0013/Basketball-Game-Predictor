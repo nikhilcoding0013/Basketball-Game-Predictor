{
  "nbformat": 4,
  "nbformat_minor": 0,
  "metadata": {
    "colab": {
      "provenance": [],
      "include_colab_link": true
    },
    "kernelspec": {
      "name": "python3",
      "display_name": "Python 3"
    },
    "language_info": {
      "name": "python"
    }
  },
  "cells": [
    {
      "cell_type": "markdown",
      "metadata": {
        "id": "view-in-github",
        "colab_type": "text"
      },
      "source": [
        "<a href=\"https://colab.research.google.com/github/nikhilcoding0013/Basketball-Game-Predictor/blob/main/1B_WHARTON_DATASCIENCE_COMPETITION.ipynb\" target=\"_parent\"><img src=\"https://colab.research.google.com/assets/colab-badge.svg\" alt=\"Open In Colab\"/></a>"
      ]
    },
    {
      "cell_type": "code",
      "source": [
        "import pandas as pd\n",
        "import csv\n",
        "df = pd.read_csv('games_2022 - games_2022 (1).csv')\n",
        "df['OT_length_min_tot'] = df['OT_length_min_tot'].map(lambda x: 0 if pd.isna(x) else x)\n",
        "df['notD1_incomplete']=df['notD1_incomplete'].map({False:0, True:1})\n",
        "print(df.head())\n",
        "print(df['notD1_incomplete'][2232])"
      ],
      "metadata": {
        "colab": {
          "base_uri": "https://localhost:8080/"
        },
        "id": "Nsf8No9rqvYb",
        "outputId": "59fcaba7-e73a-4b89-bd11-daf84f6b99e7"
      },
      "execution_count": null,
      "outputs": [
        {
          "output_type": "stream",
          "name": "stdout",
          "text": [
            "          game_id   game_date                       team  FGA_2  FGM_2  FGA_3  \\\n",
            "0  game_2022_2011  2021-12-30      georgia_lady_bulldogs     50     22     11   \n",
            "1  game_2022_2011  2021-12-30                 lsu_tigers     50     24     11   \n",
            "2  game_2022_2012  2021-12-30            missouri_tigers     43     18     15   \n",
            "3  game_2022_2012  2021-12-30   south_carolina_gamecocks     55     23     21   \n",
            "4  game_2022_2013  2021-12-30  tennessee_lady_volunteers     41     20     15   \n",
            "\n",
            "   FGM_3  FTA  FTM  AST  ...  largest_lead  notD1_incomplete  \\\n",
            "0      5    6    3   14  ...           1.0                 0   \n",
            "1      4   15    8   15  ...          14.0                 0   \n",
            "2      7   16   13   10  ...           8.0                 0   \n",
            "3      6    9    5   15  ...           6.0                 0   \n",
            "4      4   15   10   16  ...          19.0                 0   \n",
            "\n",
            "   OT_length_min_tot  rest_days  attendance  tz_dif_H_E  prev_game_dist  \\\n",
            "0                0.0        9.0      3241.0         0.0             0.0   \n",
            "1                0.0        3.0      3241.0         0.0           824.0   \n",
            "2                5.0        8.0      6139.0         0.0           371.0   \n",
            "3                5.0        9.0      6139.0         0.0          1154.0   \n",
            "4                0.0        3.0      8124.0         0.0             0.0   \n",
            "\n",
            "   home_away  home_away_NS  travel_dist  \n",
            "0       home             1          0.0  \n",
            "1       away            -1        824.0  \n",
            "2       home             1          0.0  \n",
            "3       away            -1       1154.0  \n",
            "4       home             1          0.0  \n",
            "\n",
            "[5 rows x 30 columns]\n",
            "1\n"
          ]
        }
      ]
    },
    {
      "cell_type": "code",
      "source": [
        "df['home_away']=df['home_away'].map({'home':0, 'away':1})"
      ],
      "metadata": {
        "id": "V0JmhB6pwwSV"
      },
      "execution_count": null,
      "outputs": []
    },
    {
      "cell_type": "code",
      "source": [
        "df.head()\n",
        "print(df.shape)"
      ],
      "metadata": {
        "colab": {
          "base_uri": "https://localhost:8080/"
        },
        "id": "tQhbSDuvzLqs",
        "outputId": "7225d311-b781-4e8b-bab1-c315e4610f7b"
      },
      "execution_count": null,
      "outputs": [
        {
          "output_type": "stream",
          "name": "stdout",
          "text": [
            "(10438, 30)\n"
          ]
        }
      ]
    },
    {
      "cell_type": "code",
      "source": [
        "import math\n",
        "teamnames={\"georgia_lady_bulldogs\"}\n",
        "for i in range(10438):\n",
        "  teamnames.add(df['team'][i])\n",
        "print(len(teamnames))\n",
        "ELO ={}\n",
        "for i in teamnames:\n",
        "  ELO[i]=1500\n",
        "K=0\n",
        "for k in range(10):\n",
        "  for j in range(5219):\n",
        "    if (df[\"team_score\"][2*j]>df[\"opponent_team_score\"][2*j]):\n",
        "      ELO[df[\"team\"][2*j]]+=6*(df[\"team_score\"][2*j]/df[\"opponent_team_score\"][2*j])+3*math.log(ELO[df['team'][2*j+1]]/ELO[df['team'][2*j]])+K\n",
        "    elif (df[\"team_score\"][2*j]<df[\"opponent_team_score\"][2*j]):\n",
        "      ELO[df[\"team\"][2*j]]-=6*(df[\"team_score\"][2*j]/df[\"opponent_team_score\"][2*j])+ 3*math.log(ELO[df['team'][2*j]]/ELO[df['team'][2*j+1]])+K\n",
        "  for j in range(5220):\n",
        "    if (j>1):\n",
        "      if (df[\"team_score\"][2*j-1]>df[\"opponent_team_score\"][2*j-1]):\n",
        "        ELO[df[\"team\"][2*j-1]]+=6*(df[\"opponent_team_score\"][2*j-1]/df[\"team_score\"][2*j-1]) +3*math.log(ELO[df['team'][2*j-2]]/ELO[df['team'][2*j-1]])+K\n",
        "      elif (df[\"team_score\"][2*j-1]<df[\"opponent_team_score\"][2*j-1]):\n",
        "        ELO[df[\"team\"][2*j-1]]-=6*(df[\"opponent_team_score\"][2*j-1]/df[\"team_score\"][2*j-1])+3*math.log(ELO[df['team'][2*j-1]]/ELO[df['team'][2*j-2]])+K\n",
        "ELOLIST= []\n",
        "ELODICT={}\n",
        "for i in teamnames:\n",
        "  ELOLIST.append(ELO[i])\n",
        "  ELODICT[ELO[i]]=i\n",
        "ELOLIST.sort()"
      ],
      "metadata": {
        "id": "enmNd_xXdzZp",
        "colab": {
          "base_uri": "https://localhost:8080/"
        },
        "outputId": "0c0f7505-4645-4d2d-aeea-b08e0085ed9c"
      },
      "execution_count": null,
      "outputs": [
        {
          "output_type": "stream",
          "name": "stdout",
          "text": [
            "564\n"
          ]
        }
      ]
    },
    {
      "cell_type": "code",
      "source": [
        "import pandas as pd\n",
        "import numpy as np\n",
        "import tensorflow as tf\n",
        "from tensorflow import keras\n",
        "from sklearn.model_selection import train_test_split\n",
        "from sklearn.preprocessing import StandardScaler\n",
        "df = pd.read_csv('games_2022 - games_2022 (1).csv')\n",
        "\n",
        "features = ['AST', 'BLK', 'STL', 'TOV', 'TOV_team', 'DREB', 'OREB',\n",
        "            'F_tech', 'F_personal', 'team_score', 'opponent_team_score',\n",
        "            '2P%', '3P%', 'FT%', 'home_away', 'rest_days_OPP', 'travel_dist_OPP', 'rest_days', 'travel_dist']\n",
        "df['win'] = (df['team_score'] > df['opponent_team_score']).astype(int)\n",
        "df['2P%'] = df['FGA_2']/df['FGM_2']\n",
        "df['3P%'] = df['FGA_3']/df['FGM_3']\n",
        "df['rest_days_OPP'] = df['rest_days'].shift(-1)  # Next row's home rest days\n",
        "df['travel_dist_OPP'] = df['travel_dist'].shift(-1)  # Next row's home travel distance\n",
        "df['home_away']=df['home_away'].map({'home':0, 'away':1})\n",
        "df['FT%']=df['FTA']/df['FTM']\n",
        "scaler = StandardScaler()\n",
        "df.fillna(0, inplace=True)\n",
        "df[features] = df[features].replace([np.inf, -np.inf], np.nan)\n",
        "\n",
        "df[features] = scaler.fit_transform(df[features])\n",
        "X_train, X_test, y_train, y_test = train_test_split(df[features], df['win'], test_size=0.2, random_state=42)\n",
        "X_train = X_train.fillna(0)\n",
        "model = keras.Sequential([\n",
        "    keras.layers.Dense(32, activation='relu', input_shape=(len(features),)),\n",
        "    keras.layers.Dense(16, activation='relu'),\n",
        "    keras.layers.Dense(1, activation='sigmoid')  # Output layer for probability\n",
        "])\n",
        "model.compile(optimizer='adam', loss='binary_crossentropy', metrics=['accuracy'])\n",
        "model.fit(X_train, y_train, epochs=50, batch_size=32, validation_data=(X_test, y_test))\n",
        "test_loss, test_acc = model.evaluate(X_test, y_test)\n",
        "print(f\"Test Accuracy: {test_acc:.4f}\")\n",
        "model.save(\"basketball_win_predictor.h5\")\n",
        "def predict_game(team_stats):\n",
        "    \"\"\" Predicts win probability given team stats \"\"\"\n",
        "    team_stats_scaled = scaler.transform([team_stats])\n",
        "    prob = model.predict(team_stats_scaled)[0][0]\n",
        "    return prob\n",
        "playoff_game = df[features].iloc[0].values\n",
        "win_prob = predict_game(playoff_game)\n",
        "print(f\"Predicted Win Probability: {win_prob:.4f}\")\n"
      ],
      "metadata": {
        "colab": {
          "base_uri": "https://localhost:8080/"
        },
        "id": "ohLbEJqWh224",
        "outputId": "4378be3e-2ab0-4bff-caa9-a46767380260"
      },
      "execution_count": null,
      "outputs": [
        {
          "output_type": "stream",
          "name": "stdout",
          "text": [
            "Epoch 1/50\n"
          ]
        },
        {
          "output_type": "stream",
          "name": "stderr",
          "text": [
            "/usr/local/lib/python3.11/dist-packages/keras/src/layers/core/dense.py:87: UserWarning: Do not pass an `input_shape`/`input_dim` argument to a layer. When using Sequential models, prefer using an `Input(shape)` object as the first layer in the model instead.\n",
            "  super().__init__(activity_regularizer=activity_regularizer, **kwargs)\n"
          ]
        },
        {
          "output_type": "stream",
          "name": "stdout",
          "text": [
            "\u001b[1m261/261\u001b[0m \u001b[32m━━━━━━━━━━━━━━━━━━━━\u001b[0m\u001b[37m\u001b[0m \u001b[1m2s\u001b[0m 3ms/step - accuracy: 0.8116 - loss: 0.4432 - val_accuracy: 0.9483 - val_loss: nan\n",
            "Epoch 2/50\n",
            "\u001b[1m261/261\u001b[0m \u001b[32m━━━━━━━━━━━━━━━━━━━━\u001b[0m\u001b[37m\u001b[0m \u001b[1m1s\u001b[0m 2ms/step - accuracy: 0.9613 - loss: 0.1158 - val_accuracy: 0.9722 - val_loss: nan\n",
            "Epoch 3/50\n",
            "\u001b[1m261/261\u001b[0m \u001b[32m━━━━━━━━━━━━━━━━━━━━\u001b[0m\u001b[37m\u001b[0m \u001b[1m1s\u001b[0m 2ms/step - accuracy: 0.9805 - loss: 0.0573 - val_accuracy: 0.9794 - val_loss: nan\n",
            "Epoch 4/50\n",
            "\u001b[1m261/261\u001b[0m \u001b[32m━━━━━━━━━━━━━━━━━━━━\u001b[0m\u001b[37m\u001b[0m \u001b[1m1s\u001b[0m 3ms/step - accuracy: 0.9909 - loss: 0.0362 - val_accuracy: 0.9842 - val_loss: nan\n",
            "Epoch 5/50\n",
            "\u001b[1m261/261\u001b[0m \u001b[32m━━━━━━━━━━━━━━━━━━━━\u001b[0m\u001b[37m\u001b[0m \u001b[1m2s\u001b[0m 3ms/step - accuracy: 0.9943 - loss: 0.0255 - val_accuracy: 0.9856 - val_loss: nan\n",
            "Epoch 6/50\n",
            "\u001b[1m261/261\u001b[0m \u001b[32m━━━━━━━━━━━━━━━━━━━━\u001b[0m\u001b[37m\u001b[0m \u001b[1m1s\u001b[0m 3ms/step - accuracy: 0.9966 - loss: 0.0170 - val_accuracy: 0.9880 - val_loss: nan\n",
            "Epoch 7/50\n",
            "\u001b[1m261/261\u001b[0m \u001b[32m━━━━━━━━━━━━━━━━━━━━\u001b[0m\u001b[37m\u001b[0m \u001b[1m1s\u001b[0m 2ms/step - accuracy: 0.9990 - loss: 0.0123 - val_accuracy: 0.9890 - val_loss: nan\n",
            "Epoch 8/50\n",
            "\u001b[1m261/261\u001b[0m \u001b[32m━━━━━━━━━━━━━━━━━━━━\u001b[0m\u001b[37m\u001b[0m \u001b[1m1s\u001b[0m 2ms/step - accuracy: 0.9990 - loss: 0.0103 - val_accuracy: 0.9895 - val_loss: nan\n",
            "Epoch 9/50\n",
            "\u001b[1m261/261\u001b[0m \u001b[32m━━━━━━━━━━━━━━━━━━━━\u001b[0m\u001b[37m\u001b[0m \u001b[1m1s\u001b[0m 2ms/step - accuracy: 0.9988 - loss: 0.0082 - val_accuracy: 0.9895 - val_loss: nan\n",
            "Epoch 10/50\n",
            "\u001b[1m261/261\u001b[0m \u001b[32m━━━━━━━━━━━━━━━━━━━━\u001b[0m\u001b[37m\u001b[0m \u001b[1m1s\u001b[0m 2ms/step - accuracy: 0.9988 - loss: 0.0060 - val_accuracy: 0.9919 - val_loss: nan\n",
            "Epoch 11/50\n",
            "\u001b[1m261/261\u001b[0m \u001b[32m━━━━━━━━━━━━━━━━━━━━\u001b[0m\u001b[37m\u001b[0m \u001b[1m1s\u001b[0m 3ms/step - accuracy: 0.9994 - loss: 0.0052 - val_accuracy: 0.9933 - val_loss: nan\n",
            "Epoch 12/50\n",
            "\u001b[1m261/261\u001b[0m \u001b[32m━━━━━━━━━━━━━━━━━━━━\u001b[0m\u001b[37m\u001b[0m \u001b[1m1s\u001b[0m 2ms/step - accuracy: 0.9992 - loss: 0.0043 - val_accuracy: 0.9933 - val_loss: nan\n",
            "Epoch 13/50\n",
            "\u001b[1m261/261\u001b[0m \u001b[32m━━━━━━━━━━━━━━━━━━━━\u001b[0m\u001b[37m\u001b[0m \u001b[1m1s\u001b[0m 2ms/step - accuracy: 1.0000 - loss: 0.0028 - val_accuracy: 0.9933 - val_loss: nan\n",
            "Epoch 14/50\n",
            "\u001b[1m261/261\u001b[0m \u001b[32m━━━━━━━━━━━━━━━━━━━━\u001b[0m\u001b[37m\u001b[0m \u001b[1m1s\u001b[0m 2ms/step - accuracy: 1.0000 - loss: 0.0027 - val_accuracy: 0.9914 - val_loss: nan\n",
            "Epoch 15/50\n",
            "\u001b[1m261/261\u001b[0m \u001b[32m━━━━━━━━━━━━━━━━━━━━\u001b[0m\u001b[37m\u001b[0m \u001b[1m1s\u001b[0m 3ms/step - accuracy: 1.0000 - loss: 0.0019 - val_accuracy: 0.9943 - val_loss: nan\n",
            "Epoch 16/50\n",
            "\u001b[1m261/261\u001b[0m \u001b[32m━━━━━━━━━━━━━━━━━━━━\u001b[0m\u001b[37m\u001b[0m \u001b[1m2s\u001b[0m 4ms/step - accuracy: 1.0000 - loss: 0.0019 - val_accuracy: 0.9919 - val_loss: nan\n",
            "Epoch 17/50\n",
            "\u001b[1m261/261\u001b[0m \u001b[32m━━━━━━━━━━━━━━━━━━━━\u001b[0m\u001b[37m\u001b[0m \u001b[1m1s\u001b[0m 3ms/step - accuracy: 1.0000 - loss: 0.0015 - val_accuracy: 0.9923 - val_loss: nan\n",
            "Epoch 18/50\n",
            "\u001b[1m261/261\u001b[0m \u001b[32m━━━━━━━━━━━━━━━━━━━━\u001b[0m\u001b[37m\u001b[0m \u001b[1m1s\u001b[0m 2ms/step - accuracy: 1.0000 - loss: 0.0011 - val_accuracy: 0.9933 - val_loss: nan\n",
            "Epoch 19/50\n",
            "\u001b[1m261/261\u001b[0m \u001b[32m━━━━━━━━━━━━━━━━━━━━\u001b[0m\u001b[37m\u001b[0m \u001b[1m1s\u001b[0m 2ms/step - accuracy: 0.9999 - loss: 0.0011 - val_accuracy: 0.9952 - val_loss: nan\n",
            "Epoch 20/50\n",
            "\u001b[1m261/261\u001b[0m \u001b[32m━━━━━━━━━━━━━━━━━━━━\u001b[0m\u001b[37m\u001b[0m \u001b[1m1s\u001b[0m 2ms/step - accuracy: 1.0000 - loss: 8.0877e-04 - val_accuracy: 0.9938 - val_loss: nan\n",
            "Epoch 21/50\n",
            "\u001b[1m261/261\u001b[0m \u001b[32m━━━━━━━━━━━━━━━━━━━━\u001b[0m\u001b[37m\u001b[0m \u001b[1m1s\u001b[0m 2ms/step - accuracy: 1.0000 - loss: 7.8817e-04 - val_accuracy: 0.9947 - val_loss: nan\n",
            "Epoch 22/50\n",
            "\u001b[1m261/261\u001b[0m \u001b[32m━━━━━━━━━━━━━━━━━━━━\u001b[0m\u001b[37m\u001b[0m \u001b[1m1s\u001b[0m 2ms/step - accuracy: 1.0000 - loss: 6.4928e-04 - val_accuracy: 0.9943 - val_loss: nan\n",
            "Epoch 23/50\n",
            "\u001b[1m261/261\u001b[0m \u001b[32m━━━━━━━━━━━━━━━━━━━━\u001b[0m\u001b[37m\u001b[0m \u001b[1m1s\u001b[0m 2ms/step - accuracy: 1.0000 - loss: 6.3494e-04 - val_accuracy: 0.9933 - val_loss: nan\n",
            "Epoch 24/50\n",
            "\u001b[1m261/261\u001b[0m \u001b[32m━━━━━━━━━━━━━━━━━━━━\u001b[0m\u001b[37m\u001b[0m \u001b[1m1s\u001b[0m 2ms/step - accuracy: 1.0000 - loss: 9.3365e-04 - val_accuracy: 0.9923 - val_loss: nan\n",
            "Epoch 25/50\n",
            "\u001b[1m261/261\u001b[0m \u001b[32m━━━━━━━━━━━━━━━━━━━━\u001b[0m\u001b[37m\u001b[0m \u001b[1m1s\u001b[0m 2ms/step - accuracy: 0.9992 - loss: 0.0020 - val_accuracy: 0.9928 - val_loss: nan\n",
            "Epoch 26/50\n",
            "\u001b[1m261/261\u001b[0m \u001b[32m━━━━━━━━━━━━━━━━━━━━\u001b[0m\u001b[37m\u001b[0m \u001b[1m1s\u001b[0m 2ms/step - accuracy: 0.9998 - loss: 7.0230e-04 - val_accuracy: 0.9952 - val_loss: nan\n",
            "Epoch 27/50\n",
            "\u001b[1m261/261\u001b[0m \u001b[32m━━━━━━━━━━━━━━━━━━━━\u001b[0m\u001b[37m\u001b[0m \u001b[1m1s\u001b[0m 3ms/step - accuracy: 1.0000 - loss: 4.0712e-04 - val_accuracy: 0.9952 - val_loss: nan\n",
            "Epoch 28/50\n",
            "\u001b[1m261/261\u001b[0m \u001b[32m━━━━━━━━━━━━━━━━━━━━\u001b[0m\u001b[37m\u001b[0m \u001b[1m1s\u001b[0m 3ms/step - accuracy: 1.0000 - loss: 2.0442e-04 - val_accuracy: 0.9947 - val_loss: nan\n",
            "Epoch 29/50\n",
            "\u001b[1m261/261\u001b[0m \u001b[32m━━━━━━━━━━━━━━━━━━━━\u001b[0m\u001b[37m\u001b[0m \u001b[1m1s\u001b[0m 2ms/step - accuracy: 1.0000 - loss: 1.5862e-04 - val_accuracy: 0.9947 - val_loss: nan\n",
            "Epoch 30/50\n",
            "\u001b[1m261/261\u001b[0m \u001b[32m━━━━━━━━━━━━━━━━━━━━\u001b[0m\u001b[37m\u001b[0m \u001b[1m1s\u001b[0m 2ms/step - accuracy: 1.0000 - loss: 1.8103e-04 - val_accuracy: 0.9952 - val_loss: nan\n",
            "Epoch 31/50\n",
            "\u001b[1m261/261\u001b[0m \u001b[32m━━━━━━━━━━━━━━━━━━━━\u001b[0m\u001b[37m\u001b[0m \u001b[1m1s\u001b[0m 2ms/step - accuracy: 1.0000 - loss: 1.6720e-04 - val_accuracy: 0.9952 - val_loss: nan\n",
            "Epoch 32/50\n",
            "\u001b[1m261/261\u001b[0m \u001b[32m━━━━━━━━━━━━━━━━━━━━\u001b[0m\u001b[37m\u001b[0m \u001b[1m1s\u001b[0m 2ms/step - accuracy: 1.0000 - loss: 1.6111e-04 - val_accuracy: 0.9952 - val_loss: nan\n",
            "Epoch 33/50\n",
            "\u001b[1m261/261\u001b[0m \u001b[32m━━━━━━━━━━━━━━━━━━━━\u001b[0m\u001b[37m\u001b[0m \u001b[1m1s\u001b[0m 2ms/step - accuracy: 1.0000 - loss: 1.3024e-04 - val_accuracy: 0.9952 - val_loss: nan\n",
            "Epoch 34/50\n",
            "\u001b[1m261/261\u001b[0m \u001b[32m━━━━━━━━━━━━━━━━━━━━\u001b[0m\u001b[37m\u001b[0m \u001b[1m1s\u001b[0m 2ms/step - accuracy: 1.0000 - loss: 1.1101e-04 - val_accuracy: 0.9952 - val_loss: nan\n",
            "Epoch 35/50\n",
            "\u001b[1m261/261\u001b[0m \u001b[32m━━━━━━━━━━━━━━━━━━━━\u001b[0m\u001b[37m\u001b[0m \u001b[1m1s\u001b[0m 2ms/step - accuracy: 1.0000 - loss: 9.9704e-05 - val_accuracy: 0.9952 - val_loss: nan\n",
            "Epoch 36/50\n",
            "\u001b[1m261/261\u001b[0m \u001b[32m━━━━━━━━━━━━━━━━━━━━\u001b[0m\u001b[37m\u001b[0m \u001b[1m1s\u001b[0m 2ms/step - accuracy: 1.0000 - loss: 9.7708e-05 - val_accuracy: 0.9952 - val_loss: nan\n",
            "Epoch 37/50\n",
            "\u001b[1m261/261\u001b[0m \u001b[32m━━━━━━━━━━━━━━━━━━━━\u001b[0m\u001b[37m\u001b[0m \u001b[1m1s\u001b[0m 2ms/step - accuracy: 1.0000 - loss: 6.8737e-05 - val_accuracy: 0.9952 - val_loss: nan\n",
            "Epoch 38/50\n",
            "\u001b[1m261/261\u001b[0m \u001b[32m━━━━━━━━━━━━━━━━━━━━\u001b[0m\u001b[37m\u001b[0m \u001b[1m1s\u001b[0m 3ms/step - accuracy: 1.0000 - loss: 7.4872e-05 - val_accuracy: 0.9952 - val_loss: nan\n",
            "Epoch 39/50\n",
            "\u001b[1m261/261\u001b[0m \u001b[32m━━━━━━━━━━━━━━━━━━━━\u001b[0m\u001b[37m\u001b[0m \u001b[1m2s\u001b[0m 4ms/step - accuracy: 1.0000 - loss: 7.2798e-05 - val_accuracy: 0.9947 - val_loss: nan\n",
            "Epoch 40/50\n",
            "\u001b[1m261/261\u001b[0m \u001b[32m━━━━━━━━━━━━━━━━━━━━\u001b[0m\u001b[37m\u001b[0m \u001b[1m1s\u001b[0m 2ms/step - accuracy: 1.0000 - loss: 5.9268e-05 - val_accuracy: 0.9957 - val_loss: nan\n",
            "Epoch 41/50\n",
            "\u001b[1m261/261\u001b[0m \u001b[32m━━━━━━━━━━━━━━━━━━━━\u001b[0m\u001b[37m\u001b[0m \u001b[1m1s\u001b[0m 2ms/step - accuracy: 1.0000 - loss: 5.1256e-05 - val_accuracy: 0.9952 - val_loss: nan\n",
            "Epoch 42/50\n",
            "\u001b[1m261/261\u001b[0m \u001b[32m━━━━━━━━━━━━━━━━━━━━\u001b[0m\u001b[37m\u001b[0m \u001b[1m1s\u001b[0m 2ms/step - accuracy: 1.0000 - loss: 4.1690e-05 - val_accuracy: 0.9952 - val_loss: nan\n",
            "Epoch 43/50\n",
            "\u001b[1m261/261\u001b[0m \u001b[32m━━━━━━━━━━━━━━━━━━━━\u001b[0m\u001b[37m\u001b[0m \u001b[1m1s\u001b[0m 2ms/step - accuracy: 1.0000 - loss: 3.8751e-05 - val_accuracy: 0.9947 - val_loss: nan\n",
            "Epoch 44/50\n",
            "\u001b[1m261/261\u001b[0m \u001b[32m━━━━━━━━━━━━━━━━━━━━\u001b[0m\u001b[37m\u001b[0m \u001b[1m1s\u001b[0m 2ms/step - accuracy: 1.0000 - loss: 3.7756e-05 - val_accuracy: 0.9947 - val_loss: nan\n",
            "Epoch 45/50\n",
            "\u001b[1m261/261\u001b[0m \u001b[32m━━━━━━━━━━━━━━━━━━━━\u001b[0m\u001b[37m\u001b[0m \u001b[1m1s\u001b[0m 2ms/step - accuracy: 1.0000 - loss: 2.6173e-05 - val_accuracy: 0.9952 - val_loss: nan\n",
            "Epoch 46/50\n",
            "\u001b[1m261/261\u001b[0m \u001b[32m━━━━━━━━━━━━━━━━━━━━\u001b[0m\u001b[37m\u001b[0m \u001b[1m1s\u001b[0m 2ms/step - accuracy: 1.0000 - loss: 2.2608e-05 - val_accuracy: 0.9952 - val_loss: nan\n",
            "Epoch 47/50\n",
            "\u001b[1m261/261\u001b[0m \u001b[32m━━━━━━━━━━━━━━━━━━━━\u001b[0m\u001b[37m\u001b[0m \u001b[1m1s\u001b[0m 2ms/step - accuracy: 1.0000 - loss: 2.0397e-05 - val_accuracy: 0.9947 - val_loss: nan\n",
            "Epoch 48/50\n",
            "\u001b[1m261/261\u001b[0m \u001b[32m━━━━━━━━━━━━━━━━━━━━\u001b[0m\u001b[37m\u001b[0m \u001b[1m1s\u001b[0m 2ms/step - accuracy: 1.0000 - loss: 2.2292e-05 - val_accuracy: 0.9947 - val_loss: nan\n",
            "Epoch 49/50\n",
            "\u001b[1m261/261\u001b[0m \u001b[32m━━━━━━━━━━━━━━━━━━━━\u001b[0m\u001b[37m\u001b[0m \u001b[1m2s\u001b[0m 4ms/step - accuracy: 1.0000 - loss: 1.6691e-05 - val_accuracy: 0.9952 - val_loss: nan\n",
            "Epoch 50/50\n",
            "\u001b[1m261/261\u001b[0m \u001b[32m━━━━━━━━━━━━━━━━━━━━\u001b[0m\u001b[37m\u001b[0m \u001b[1m1s\u001b[0m 4ms/step - accuracy: 0.9999 - loss: 4.4380e-04 - val_accuracy: 0.9852 - val_loss: nan\n",
            "\u001b[1m66/66\u001b[0m \u001b[32m━━━━━━━━━━━━━━━━━━━━\u001b[0m\u001b[37m\u001b[0m \u001b[1m0s\u001b[0m 2ms/step - accuracy: 0.9895 - loss: nan\n"
          ]
        },
        {
          "output_type": "stream",
          "name": "stderr",
          "text": [
            "WARNING:absl:You are saving your model as an HDF5 file via `model.save()` or `keras.saving.save_model(model)`. This file format is considered legacy. We recommend using instead the native Keras format, e.g. `model.save('my_model.keras')` or `keras.saving.save_model(model, 'my_model.keras')`. \n"
          ]
        },
        {
          "output_type": "stream",
          "name": "stdout",
          "text": [
            "Test Accuracy: 0.9852\n",
            "\u001b[1m1/1\u001b[0m \u001b[32m━━━━━━━━━━━━━━━━━━━━\u001b[0m\u001b[37m\u001b[0m \u001b[1m0s\u001b[0m 65ms/step\n",
            "Predicted Win Probability: 0.8674\n"
          ]
        },
        {
          "output_type": "stream",
          "name": "stderr",
          "text": [
            "/usr/local/lib/python3.11/dist-packages/sklearn/utils/validation.py:2739: UserWarning: X does not have valid feature names, but StandardScaler was fitted with feature names\n",
            "  warnings.warn(\n"
          ]
        }
      ]
    },
    {
      "cell_type": "code",
      "source": [
        "games_to_predict = pd.read_csv('games_2022 - games_2022 (1).csv')\n",
        "# Select relevant columns for prediction\n",
        "features = ['home_away_NS', 'rest_days_Away', 'travel_dist_Away']\n",
        "X_predict = games_to_predict[features]\n",
        "\n",
        "# Standardize using the same scaler from training\n",
        "X_predict = scaler.transform(X_predict)  # Use previously fitted scaler\n",
        "\n",
        "# Predict win probabilities\n",
        "win_probabilities = model.predict(X_predict)\n",
        "\n",
        "# Assign predictions to dataframe\n",
        "games_to_predict['win_probability_home'] = win_probabilities\n",
        "games_to_predict['predicted_winner'] = np.where(win_probabilities > 0.5, games_to_predict['team_home'], games_to_predict['team_away'])\n",
        "\n",
        "# Print predictions\n",
        "print(games_to_predict[['team_home', 'team_away', 'win_probability_home', 'predicted_winner']])\n"
      ],
      "metadata": {
        "colab": {
          "base_uri": "https://localhost:8080/",
          "height": 356
        },
        "id": "2uILZ6vm2KJ3",
        "outputId": "9a99ff1c-dbac-45c4-d5a0-9414e808befd"
      },
      "execution_count": null,
      "outputs": [
        {
          "output_type": "error",
          "ename": "KeyError",
          "evalue": "\"['rest_days_Away', 'travel_dist_Away'] not in index\"",
          "traceback": [
            "\u001b[0;31m---------------------------------------------------------------------------\u001b[0m",
            "\u001b[0;31mKeyError\u001b[0m                                  Traceback (most recent call last)",
            "\u001b[0;32m<ipython-input-10-1e595f6925e9>\u001b[0m in \u001b[0;36m<cell line: 0>\u001b[0;34m()\u001b[0m\n\u001b[1;32m      2\u001b[0m \u001b[0;31m# Select relevant columns for prediction\u001b[0m\u001b[0;34m\u001b[0m\u001b[0;34m\u001b[0m\u001b[0m\n\u001b[1;32m      3\u001b[0m \u001b[0mfeatures\u001b[0m \u001b[0;34m=\u001b[0m \u001b[0;34m[\u001b[0m\u001b[0;34m'home_away_NS'\u001b[0m\u001b[0;34m,\u001b[0m \u001b[0;34m'rest_days_Away'\u001b[0m\u001b[0;34m,\u001b[0m \u001b[0;34m'travel_dist_Away'\u001b[0m\u001b[0;34m]\u001b[0m\u001b[0;34m\u001b[0m\u001b[0;34m\u001b[0m\u001b[0m\n\u001b[0;32m----> 4\u001b[0;31m \u001b[0mX_predict\u001b[0m \u001b[0;34m=\u001b[0m \u001b[0mgames_to_predict\u001b[0m\u001b[0;34m[\u001b[0m\u001b[0mfeatures\u001b[0m\u001b[0;34m]\u001b[0m\u001b[0;34m\u001b[0m\u001b[0;34m\u001b[0m\u001b[0m\n\u001b[0m\u001b[1;32m      5\u001b[0m \u001b[0;34m\u001b[0m\u001b[0m\n\u001b[1;32m      6\u001b[0m \u001b[0;31m# Standardize using the same scaler from training\u001b[0m\u001b[0;34m\u001b[0m\u001b[0;34m\u001b[0m\u001b[0m\n",
            "\u001b[0;32m/usr/local/lib/python3.11/dist-packages/pandas/core/frame.py\u001b[0m in \u001b[0;36m__getitem__\u001b[0;34m(self, key)\u001b[0m\n\u001b[1;32m   4106\u001b[0m             \u001b[0;32mif\u001b[0m \u001b[0mis_iterator\u001b[0m\u001b[0;34m(\u001b[0m\u001b[0mkey\u001b[0m\u001b[0;34m)\u001b[0m\u001b[0;34m:\u001b[0m\u001b[0;34m\u001b[0m\u001b[0;34m\u001b[0m\u001b[0m\n\u001b[1;32m   4107\u001b[0m                 \u001b[0mkey\u001b[0m \u001b[0;34m=\u001b[0m \u001b[0mlist\u001b[0m\u001b[0;34m(\u001b[0m\u001b[0mkey\u001b[0m\u001b[0;34m)\u001b[0m\u001b[0;34m\u001b[0m\u001b[0;34m\u001b[0m\u001b[0m\n\u001b[0;32m-> 4108\u001b[0;31m             \u001b[0mindexer\u001b[0m \u001b[0;34m=\u001b[0m \u001b[0mself\u001b[0m\u001b[0;34m.\u001b[0m\u001b[0mcolumns\u001b[0m\u001b[0;34m.\u001b[0m\u001b[0m_get_indexer_strict\u001b[0m\u001b[0;34m(\u001b[0m\u001b[0mkey\u001b[0m\u001b[0;34m,\u001b[0m \u001b[0;34m\"columns\"\u001b[0m\u001b[0;34m)\u001b[0m\u001b[0;34m[\u001b[0m\u001b[0;36m1\u001b[0m\u001b[0;34m]\u001b[0m\u001b[0;34m\u001b[0m\u001b[0;34m\u001b[0m\u001b[0m\n\u001b[0m\u001b[1;32m   4109\u001b[0m \u001b[0;34m\u001b[0m\u001b[0m\n\u001b[1;32m   4110\u001b[0m         \u001b[0;31m# take() does not accept boolean indexers\u001b[0m\u001b[0;34m\u001b[0m\u001b[0;34m\u001b[0m\u001b[0m\n",
            "\u001b[0;32m/usr/local/lib/python3.11/dist-packages/pandas/core/indexes/base.py\u001b[0m in \u001b[0;36m_get_indexer_strict\u001b[0;34m(self, key, axis_name)\u001b[0m\n\u001b[1;32m   6198\u001b[0m             \u001b[0mkeyarr\u001b[0m\u001b[0;34m,\u001b[0m \u001b[0mindexer\u001b[0m\u001b[0;34m,\u001b[0m \u001b[0mnew_indexer\u001b[0m \u001b[0;34m=\u001b[0m \u001b[0mself\u001b[0m\u001b[0;34m.\u001b[0m\u001b[0m_reindex_non_unique\u001b[0m\u001b[0;34m(\u001b[0m\u001b[0mkeyarr\u001b[0m\u001b[0;34m)\u001b[0m\u001b[0;34m\u001b[0m\u001b[0;34m\u001b[0m\u001b[0m\n\u001b[1;32m   6199\u001b[0m \u001b[0;34m\u001b[0m\u001b[0m\n\u001b[0;32m-> 6200\u001b[0;31m         \u001b[0mself\u001b[0m\u001b[0;34m.\u001b[0m\u001b[0m_raise_if_missing\u001b[0m\u001b[0;34m(\u001b[0m\u001b[0mkeyarr\u001b[0m\u001b[0;34m,\u001b[0m \u001b[0mindexer\u001b[0m\u001b[0;34m,\u001b[0m \u001b[0maxis_name\u001b[0m\u001b[0;34m)\u001b[0m\u001b[0;34m\u001b[0m\u001b[0;34m\u001b[0m\u001b[0m\n\u001b[0m\u001b[1;32m   6201\u001b[0m \u001b[0;34m\u001b[0m\u001b[0m\n\u001b[1;32m   6202\u001b[0m         \u001b[0mkeyarr\u001b[0m \u001b[0;34m=\u001b[0m \u001b[0mself\u001b[0m\u001b[0;34m.\u001b[0m\u001b[0mtake\u001b[0m\u001b[0;34m(\u001b[0m\u001b[0mindexer\u001b[0m\u001b[0;34m)\u001b[0m\u001b[0;34m\u001b[0m\u001b[0;34m\u001b[0m\u001b[0m\n",
            "\u001b[0;32m/usr/local/lib/python3.11/dist-packages/pandas/core/indexes/base.py\u001b[0m in \u001b[0;36m_raise_if_missing\u001b[0;34m(self, key, indexer, axis_name)\u001b[0m\n\u001b[1;32m   6250\u001b[0m \u001b[0;34m\u001b[0m\u001b[0m\n\u001b[1;32m   6251\u001b[0m             \u001b[0mnot_found\u001b[0m \u001b[0;34m=\u001b[0m \u001b[0mlist\u001b[0m\u001b[0;34m(\u001b[0m\u001b[0mensure_index\u001b[0m\u001b[0;34m(\u001b[0m\u001b[0mkey\u001b[0m\u001b[0;34m)\u001b[0m\u001b[0;34m[\u001b[0m\u001b[0mmissing_mask\u001b[0m\u001b[0;34m.\u001b[0m\u001b[0mnonzero\u001b[0m\u001b[0;34m(\u001b[0m\u001b[0;34m)\u001b[0m\u001b[0;34m[\u001b[0m\u001b[0;36m0\u001b[0m\u001b[0;34m]\u001b[0m\u001b[0;34m]\u001b[0m\u001b[0;34m.\u001b[0m\u001b[0munique\u001b[0m\u001b[0;34m(\u001b[0m\u001b[0;34m)\u001b[0m\u001b[0;34m)\u001b[0m\u001b[0;34m\u001b[0m\u001b[0;34m\u001b[0m\u001b[0m\n\u001b[0;32m-> 6252\u001b[0;31m             \u001b[0;32mraise\u001b[0m \u001b[0mKeyError\u001b[0m\u001b[0;34m(\u001b[0m\u001b[0;34mf\"{not_found} not in index\"\u001b[0m\u001b[0;34m)\u001b[0m\u001b[0;34m\u001b[0m\u001b[0;34m\u001b[0m\u001b[0m\n\u001b[0m\u001b[1;32m   6253\u001b[0m \u001b[0;34m\u001b[0m\u001b[0m\n\u001b[1;32m   6254\u001b[0m     \u001b[0;34m@\u001b[0m\u001b[0moverload\u001b[0m\u001b[0;34m\u001b[0m\u001b[0;34m\u001b[0m\u001b[0m\n",
            "\u001b[0;31mKeyError\u001b[0m: \"['rest_days_Away', 'travel_dist_Away'] not in index\""
          ]
        }
      ]
    },
    {
      "cell_type": "code",
      "source": [
        "# Importing essential libraries\n",
        "\n",
        "# For data manipulation and loading\n",
        "import pandas as pd\n",
        "import numpy as np\n",
        "\n",
        "# For splitting the data into training and testing sets\n",
        "from sklearn.model_selection import train_test_split\n",
        "\n",
        "# For evaluation metrics (MAE, MSE, RMSE, R2)\n",
        "from sklearn.metrics import mean_absolute_error, mean_squared_error, r2_score\n",
        "\n",
        "# For scaling features (optional but recommended for some models)\n",
        "from sklearn.preprocessing import StandardScaler\n",
        "\n",
        "# XGBoost library for model building\n",
        "import xgboost as xgb\n",
        "\n",
        "# After the upload, you can load your CSV as follows:\n",
        "df = pd.read_csv('games_2022 - games_2022 (1).csv')\n",
        "\n",
        "# Display the first few rows and add win column\n",
        "df['win'] = (df['opponent_team_score'] < df['team_score']).astype(int)\n",
        "print(df.head())\n",
        "\n",
        "\n"
      ],
      "metadata": {
        "colab": {
          "base_uri": "https://localhost:8080/"
        },
        "id": "CYqE25Id_M26",
        "outputId": "747f5edd-28c5-42a1-c5e3-2078dccc4e64"
      },
      "execution_count": null,
      "outputs": [
        {
          "output_type": "stream",
          "name": "stdout",
          "text": [
            "          game_id   game_date                       team  FGA_2  FGM_2  FGA_3  \\\n",
            "0  game_2022_2011  2021-12-30      georgia_lady_bulldogs     50     22     11   \n",
            "1  game_2022_2011  2021-12-30                 lsu_tigers     50     24     11   \n",
            "2  game_2022_2012  2021-12-30            missouri_tigers     43     18     15   \n",
            "3  game_2022_2012  2021-12-30   south_carolina_gamecocks     55     23     21   \n",
            "4  game_2022_2013  2021-12-30  tennessee_lady_volunteers     41     20     15   \n",
            "\n",
            "   FGM_3  FTA  FTM  AST  ...  notD1_incomplete  OT_length_min_tot  rest_days  \\\n",
            "0      5    6    3   14  ...             False                NaN        9.0   \n",
            "1      4   15    8   15  ...             False                NaN        3.0   \n",
            "2      7   16   13   10  ...             False                5.0        8.0   \n",
            "3      6    9    5   15  ...             False                5.0        9.0   \n",
            "4      4   15   10   16  ...             False                NaN        3.0   \n",
            "\n",
            "   attendance  tz_dif_H_E  prev_game_dist  home_away  home_away_NS  \\\n",
            "0      3241.0         0.0             0.0       home             1   \n",
            "1      3241.0         0.0           824.0       away            -1   \n",
            "2      6139.0         0.0           371.0       home             1   \n",
            "3      6139.0         0.0          1154.0       away            -1   \n",
            "4      8124.0         0.0             0.0       home             1   \n",
            "\n",
            "   travel_dist  win  \n",
            "0          0.0    0  \n",
            "1        824.0    1  \n",
            "2          0.0    1  \n",
            "3       1154.0    0  \n",
            "4          0.0    1  \n",
            "\n",
            "[5 rows x 31 columns]\n"
          ]
        }
      ]
    },
    {
      "cell_type": "code",
      "source": [
        "dfn = df.drop(columns=['F_tech', 'F_personal', 'game_id', 'attendance', 'tz_dif_H_E', 'prev_game_dist', 'TOV_team', 'home_away', 'game_date', 'FGA_2', 'FGM_2', 'FGA_3', 'FGM_3', 'FTA', 'FTM',  'AST',  'BLK',  'STL',  'TOV',  'DREB',  'OREB',  'team_score',  'opponent_team_score', 'largest_lead', 'OT_length_min_tot'])\n",
        "dfn.loc[dfn['home_away_NS'] == -1, 'travel_dist'] = 0\n",
        "dfn['notD1_incomplete'] = dfn['notD1_incomplete'].astype(int)\n",
        "\n",
        "expected_probs = []\n",
        "for i in range(0, len(df), 2):\n",
        "    team_A = dfn.iloc[i]  # First row (Team 1)\n",
        "    team_B = dfn.iloc[i+1]  # Second row (Team 2)\n",
        "    P_A = expected_win_prob(team_A['team'], team_B['team'])\n",
        "    P_B = 1 - P_A\n",
        "    expected_probs.append(P_A)\n",
        "    expected_probs.append(P_B)\n",
        "dfn['expected_win_prob'] = expected_probs\n",
        "\n",
        "print(dfn.head())\n",
        "dfn.columns"
      ],
      "metadata": {
        "colab": {
          "base_uri": "https://localhost:8080/"
        },
        "id": "KL9yNy1sbkD8",
        "outputId": "03dd97bb-6bc6-4dcd-a19c-ff5e13abe104"
      },
      "execution_count": null,
      "outputs": [
        {
          "output_type": "stream",
          "name": "stdout",
          "text": [
            "                        team  notD1_incomplete  rest_days  home_away_NS  \\\n",
            "0      georgia_lady_bulldogs                 0        9.0             1   \n",
            "1                 lsu_tigers                 0        3.0            -1   \n",
            "2            missouri_tigers                 0        8.0             1   \n",
            "3   south_carolina_gamecocks                 0        9.0            -1   \n",
            "4  tennessee_lady_volunteers                 0        3.0             1   \n",
            "\n",
            "   travel_dist  expected_win_prob  \n",
            "0          0.0                0.5  \n",
            "1          0.0                0.5  \n",
            "2          0.0                0.5  \n",
            "3          0.0                0.5  \n",
            "4          0.0                0.5  \n"
          ]
        },
        {
          "output_type": "execute_result",
          "data": {
            "text/plain": [
              "Index(['team', 'notD1_incomplete', 'rest_days', 'home_away_NS', 'travel_dist',\n",
              "       'expected_win_prob'],\n",
              "      dtype='object')"
            ]
          },
          "metadata": {},
          "execution_count": 18
        }
      ]
    },
    {
      "cell_type": "code",
      "source": [
        "df0 = dfn.drop(columns=['team'])\n",
        "df0.columns"
      ],
      "metadata": {
        "colab": {
          "base_uri": "https://localhost:8080/"
        },
        "id": "KQW6csrYZWQ2",
        "outputId": "27ed4998-b88c-4c07-fcaa-d074f57d0ad3"
      },
      "execution_count": null,
      "outputs": [
        {
          "output_type": "execute_result",
          "data": {
            "text/plain": [
              "Index(['notD1_incomplete', 'rest_days', 'home_away_NS', 'travel_dist', 'win'], dtype='object')"
            ]
          },
          "metadata": {},
          "execution_count": 13
        }
      ]
    },
    {
      "cell_type": "code",
      "source": [
        "import pandas as pd\n",
        "import matplotlib.pyplot as plt\n",
        "from sklearn.preprocessing import PolynomialFeatures\n",
        "\n",
        "def report_nans(df):\n",
        "    nan_report = df.isna().sum()\n",
        "    nan_instances = nan_report[nan_report > 0]\n",
        "\n",
        "    if nan_instances.empty:\n",
        "        print(\"No NaN values found in the DataFrame.\")\n",
        "    else:\n",
        "        print(\"NaN values found in the following columns:\")\n",
        "        for col, count in nan_instances.items():\n",
        "            print(f\"Column: {col}, NaN Count: {count}\")\n",
        "\n",
        "df0.fillna(0, inplace=True)\n",
        "df0.columns\n",
        "\n",
        "report_nans(df0)"
      ],
      "metadata": {
        "colab": {
          "base_uri": "https://localhost:8080/"
        },
        "id": "cmV-syamd-by",
        "outputId": "7d5d263e-95e3-4aee-b88c-1e961839982b"
      },
      "execution_count": null,
      "outputs": [
        {
          "output_type": "stream",
          "name": "stdout",
          "text": [
            "No NaN values found in the DataFrame.\n"
          ]
        }
      ]
    },
    {
      "cell_type": "code",
      "source": [
        "X = df0[['notD1_incomplete', 'rest_days', 'home_away_NS', 'travel_dist', 'expected_win_prob']]\n",
        "y = df0['win']\n",
        "from sklearn.model_selection import train_test_split\n",
        "X_train, X_test, y_train, y_test = train_test_split(X, y, test_size=0.3, random_state=42)\n",
        "\n",
        "poly = PolynomialFeatures(degree=2)  # Try different degrees (e.g., 3, 4) for better fit\n",
        "X_train_poly = poly.fit_transform(X_train)\n",
        "X_test_poly = poly.transform(X_test)\n",
        "\n",
        "from sklearn.linear_model import LinearRegression\n",
        "lr = LinearRegression()\n",
        "lr.fit(X_train_poly, y_train)"
      ],
      "metadata": {
        "colab": {
          "base_uri": "https://localhost:8080/",
          "height": 356
        },
        "id": "A1xU6PZ7gNiQ",
        "outputId": "3c06d7be-cb64-4f32-9e85-7cb09e5f35ef"
      },
      "execution_count": null,
      "outputs": [
        {
          "output_type": "error",
          "ename": "KeyError",
          "evalue": "\"['expected_win_prob'] not in index\"",
          "traceback": [
            "\u001b[0;31m---------------------------------------------------------------------------\u001b[0m",
            "\u001b[0;31mKeyError\u001b[0m                                  Traceback (most recent call last)",
            "\u001b[0;32m<ipython-input-19-61f31f9df05d>\u001b[0m in \u001b[0;36m<cell line: 0>\u001b[0;34m()\u001b[0m\n\u001b[0;32m----> 1\u001b[0;31m \u001b[0mX\u001b[0m \u001b[0;34m=\u001b[0m \u001b[0mdf0\u001b[0m\u001b[0;34m[\u001b[0m\u001b[0;34m[\u001b[0m\u001b[0;34m'notD1_incomplete'\u001b[0m\u001b[0;34m,\u001b[0m \u001b[0;34m'rest_days'\u001b[0m\u001b[0;34m,\u001b[0m \u001b[0;34m'home_away_NS'\u001b[0m\u001b[0;34m,\u001b[0m \u001b[0;34m'travel_dist'\u001b[0m\u001b[0;34m,\u001b[0m \u001b[0;34m'expected_win_prob'\u001b[0m\u001b[0;34m]\u001b[0m\u001b[0;34m]\u001b[0m\u001b[0;34m\u001b[0m\u001b[0;34m\u001b[0m\u001b[0m\n\u001b[0m\u001b[1;32m      2\u001b[0m \u001b[0my\u001b[0m \u001b[0;34m=\u001b[0m \u001b[0mdf0\u001b[0m\u001b[0;34m[\u001b[0m\u001b[0;34m'win'\u001b[0m\u001b[0;34m]\u001b[0m\u001b[0;34m\u001b[0m\u001b[0;34m\u001b[0m\u001b[0m\n\u001b[1;32m      3\u001b[0m \u001b[0;32mfrom\u001b[0m \u001b[0msklearn\u001b[0m\u001b[0;34m.\u001b[0m\u001b[0mmodel_selection\u001b[0m \u001b[0;32mimport\u001b[0m \u001b[0mtrain_test_split\u001b[0m\u001b[0;34m\u001b[0m\u001b[0;34m\u001b[0m\u001b[0m\n\u001b[1;32m      4\u001b[0m \u001b[0mX_train\u001b[0m\u001b[0;34m,\u001b[0m \u001b[0mX_test\u001b[0m\u001b[0;34m,\u001b[0m \u001b[0my_train\u001b[0m\u001b[0;34m,\u001b[0m \u001b[0my_test\u001b[0m \u001b[0;34m=\u001b[0m \u001b[0mtrain_test_split\u001b[0m\u001b[0;34m(\u001b[0m\u001b[0mX\u001b[0m\u001b[0;34m,\u001b[0m \u001b[0my\u001b[0m\u001b[0;34m,\u001b[0m \u001b[0mtest_size\u001b[0m\u001b[0;34m=\u001b[0m\u001b[0;36m0.3\u001b[0m\u001b[0;34m,\u001b[0m \u001b[0mrandom_state\u001b[0m\u001b[0;34m=\u001b[0m\u001b[0;36m42\u001b[0m\u001b[0;34m)\u001b[0m\u001b[0;34m\u001b[0m\u001b[0;34m\u001b[0m\u001b[0m\n\u001b[1;32m      5\u001b[0m \u001b[0;34m\u001b[0m\u001b[0m\n",
            "\u001b[0;32m/usr/local/lib/python3.11/dist-packages/pandas/core/frame.py\u001b[0m in \u001b[0;36m__getitem__\u001b[0;34m(self, key)\u001b[0m\n\u001b[1;32m   4106\u001b[0m             \u001b[0;32mif\u001b[0m \u001b[0mis_iterator\u001b[0m\u001b[0;34m(\u001b[0m\u001b[0mkey\u001b[0m\u001b[0;34m)\u001b[0m\u001b[0;34m:\u001b[0m\u001b[0;34m\u001b[0m\u001b[0;34m\u001b[0m\u001b[0m\n\u001b[1;32m   4107\u001b[0m                 \u001b[0mkey\u001b[0m \u001b[0;34m=\u001b[0m \u001b[0mlist\u001b[0m\u001b[0;34m(\u001b[0m\u001b[0mkey\u001b[0m\u001b[0;34m)\u001b[0m\u001b[0;34m\u001b[0m\u001b[0;34m\u001b[0m\u001b[0m\n\u001b[0;32m-> 4108\u001b[0;31m             \u001b[0mindexer\u001b[0m \u001b[0;34m=\u001b[0m \u001b[0mself\u001b[0m\u001b[0;34m.\u001b[0m\u001b[0mcolumns\u001b[0m\u001b[0;34m.\u001b[0m\u001b[0m_get_indexer_strict\u001b[0m\u001b[0;34m(\u001b[0m\u001b[0mkey\u001b[0m\u001b[0;34m,\u001b[0m \u001b[0;34m\"columns\"\u001b[0m\u001b[0;34m)\u001b[0m\u001b[0;34m[\u001b[0m\u001b[0;36m1\u001b[0m\u001b[0;34m]\u001b[0m\u001b[0;34m\u001b[0m\u001b[0;34m\u001b[0m\u001b[0m\n\u001b[0m\u001b[1;32m   4109\u001b[0m \u001b[0;34m\u001b[0m\u001b[0m\n\u001b[1;32m   4110\u001b[0m         \u001b[0;31m# take() does not accept boolean indexers\u001b[0m\u001b[0;34m\u001b[0m\u001b[0;34m\u001b[0m\u001b[0m\n",
            "\u001b[0;32m/usr/local/lib/python3.11/dist-packages/pandas/core/indexes/base.py\u001b[0m in \u001b[0;36m_get_indexer_strict\u001b[0;34m(self, key, axis_name)\u001b[0m\n\u001b[1;32m   6198\u001b[0m             \u001b[0mkeyarr\u001b[0m\u001b[0;34m,\u001b[0m \u001b[0mindexer\u001b[0m\u001b[0;34m,\u001b[0m \u001b[0mnew_indexer\u001b[0m \u001b[0;34m=\u001b[0m \u001b[0mself\u001b[0m\u001b[0;34m.\u001b[0m\u001b[0m_reindex_non_unique\u001b[0m\u001b[0;34m(\u001b[0m\u001b[0mkeyarr\u001b[0m\u001b[0;34m)\u001b[0m\u001b[0;34m\u001b[0m\u001b[0;34m\u001b[0m\u001b[0m\n\u001b[1;32m   6199\u001b[0m \u001b[0;34m\u001b[0m\u001b[0m\n\u001b[0;32m-> 6200\u001b[0;31m         \u001b[0mself\u001b[0m\u001b[0;34m.\u001b[0m\u001b[0m_raise_if_missing\u001b[0m\u001b[0;34m(\u001b[0m\u001b[0mkeyarr\u001b[0m\u001b[0;34m,\u001b[0m \u001b[0mindexer\u001b[0m\u001b[0;34m,\u001b[0m \u001b[0maxis_name\u001b[0m\u001b[0;34m)\u001b[0m\u001b[0;34m\u001b[0m\u001b[0;34m\u001b[0m\u001b[0m\n\u001b[0m\u001b[1;32m   6201\u001b[0m \u001b[0;34m\u001b[0m\u001b[0m\n\u001b[1;32m   6202\u001b[0m         \u001b[0mkeyarr\u001b[0m \u001b[0;34m=\u001b[0m \u001b[0mself\u001b[0m\u001b[0;34m.\u001b[0m\u001b[0mtake\u001b[0m\u001b[0;34m(\u001b[0m\u001b[0mindexer\u001b[0m\u001b[0;34m)\u001b[0m\u001b[0;34m\u001b[0m\u001b[0;34m\u001b[0m\u001b[0m\n",
            "\u001b[0;32m/usr/local/lib/python3.11/dist-packages/pandas/core/indexes/base.py\u001b[0m in \u001b[0;36m_raise_if_missing\u001b[0;34m(self, key, indexer, axis_name)\u001b[0m\n\u001b[1;32m   6250\u001b[0m \u001b[0;34m\u001b[0m\u001b[0m\n\u001b[1;32m   6251\u001b[0m             \u001b[0mnot_found\u001b[0m \u001b[0;34m=\u001b[0m \u001b[0mlist\u001b[0m\u001b[0;34m(\u001b[0m\u001b[0mensure_index\u001b[0m\u001b[0;34m(\u001b[0m\u001b[0mkey\u001b[0m\u001b[0;34m)\u001b[0m\u001b[0;34m[\u001b[0m\u001b[0mmissing_mask\u001b[0m\u001b[0;34m.\u001b[0m\u001b[0mnonzero\u001b[0m\u001b[0;34m(\u001b[0m\u001b[0;34m)\u001b[0m\u001b[0;34m[\u001b[0m\u001b[0;36m0\u001b[0m\u001b[0;34m]\u001b[0m\u001b[0;34m]\u001b[0m\u001b[0;34m.\u001b[0m\u001b[0munique\u001b[0m\u001b[0;34m(\u001b[0m\u001b[0;34m)\u001b[0m\u001b[0;34m)\u001b[0m\u001b[0;34m\u001b[0m\u001b[0;34m\u001b[0m\u001b[0m\n\u001b[0;32m-> 6252\u001b[0;31m             \u001b[0;32mraise\u001b[0m \u001b[0mKeyError\u001b[0m\u001b[0;34m(\u001b[0m\u001b[0;34mf\"{not_found} not in index\"\u001b[0m\u001b[0;34m)\u001b[0m\u001b[0;34m\u001b[0m\u001b[0;34m\u001b[0m\u001b[0m\n\u001b[0m\u001b[1;32m   6253\u001b[0m \u001b[0;34m\u001b[0m\u001b[0m\n\u001b[1;32m   6254\u001b[0m     \u001b[0;34m@\u001b[0m\u001b[0moverload\u001b[0m\u001b[0;34m\u001b[0m\u001b[0;34m\u001b[0m\u001b[0m\n",
            "\u001b[0;31mKeyError\u001b[0m: \"['expected_win_prob'] not in index\""
          ]
        }
      ]
    },
    {
      "cell_type": "code",
      "source": [
        "print(lr.score(X_test_poly, y_test))\n",
        "print(lr.score(X_train_poly, y_train))\n",
        "from sklearn.metrics import mean_absolute_error, mean_squared_error, r2_score\n",
        "y_pred = lr.predict(X_test_poly)\n",
        "\n",
        "print(\"MSE: \" + str(mean_squared_error(y_test, y_pred)))\n",
        "print(\"R2: \" + str(r2_score(y_test, y_pred)))"
      ],
      "metadata": {
        "colab": {
          "base_uri": "https://localhost:8080/"
        },
        "id": "Sm6embdOhR5d",
        "outputId": "75080386-1ff9-4137-fd2c-7bacb0cb76a9"
      },
      "execution_count": null,
      "outputs": [
        {
          "output_type": "stream",
          "name": "stdout",
          "text": [
            "0.33206103362710404\n",
            "0.3257169742143011\n",
            "MSE: 0.16695471321600525\n",
            "R2: 0.33206103362710404\n"
          ]
        }
      ]
    },
    {
      "cell_type": "code",
      "source": [
        "print(\"percent accuracy: \" + str(100*((lr.score(X_train_poly, y_train))/(lr.score(X_test_poly, y_test)))) +\"%\")"
      ],
      "metadata": {
        "colab": {
          "base_uri": "https://localhost:8080/"
        },
        "id": "WwetYFmSw9Ba",
        "outputId": "502149d5-3660-47d7-b52f-c6d71fa4c29d"
      },
      "execution_count": null,
      "outputs": [
        {
          "output_type": "stream",
          "name": "stdout",
          "text": [
            "percent accuracy: 98.08948995204082%\n"
          ]
        }
      ]
    },
    {
      "cell_type": "code",
      "source": [
        "plt.scatter(y_test, y_pred)\n",
        "plt.xlabel(y_test)\n",
        "plt.ylabel(y_pred)\n",
        "plt.title(\"Actual vs. Predicted (Polynomial Regression)\")\n",
        "plt.show()"
      ],
      "metadata": {
        "colab": {
          "base_uri": "https://localhost:8080/",
          "height": 650
        },
        "id": "N0D-GcBGuDDY",
        "outputId": "f62b3b7d-9758-44ce-86d3-7994310d620f"
      },
      "execution_count": null,
      "outputs": [
        {
          "output_type": "display_data",
          "data": {
            "text/plain": [
              "<Figure size 640x480 with 1 Axes>"
            ],
            "image/png": "[encoded data removed]"
          },
          "metadata": {}
        }
      ]
    },
    {
      "cell_type": "code",
      "source": [
        "def sigmoid(x):\n",
        "    return 1 / (1 + np.exp(-x))\n",
        "\n",
        "y_prob = sigmoid(y_pred)"
      ],
      "metadata": {
        "id": "ZXLfnT8boxkU"
      },
      "execution_count": null,
      "outputs": []
    },
    {
      "cell_type": "code",
      "source": [
        "# Function to get final Elo rating of a given team\n",
        "def get_team_elo(team_name):\n",
        "    if team_name in final_elo_ratings:\n",
        "        return f\"Final Elo rating for {team_name}: {final_elo_ratings[team_name]}\"\n",
        "    else:\n",
        "        return f\"Team {team_name} not found in the final Elo ratings.\"\n",
        "\n",
        "print(get_team_elo(input(\"Enter team name: \")))"
      ],
      "metadata": {
        "colab": {
          "base_uri": "https://localhost:8080/"
        },
        "id": "GBYU0perPsms",
        "outputId": "89396627-7432-492c-b183-a2ec59dadd43"
      },
      "execution_count": null,
      "outputs": [
        {
          "output_type": "stream",
          "name": "stdout",
          "text": [
            "Enter team name: columbia_lions\n",
            "Final Elo rating for columbia_lions: 4253.833854929918\n"
          ]
        }
      ]
    },
    {
      "cell_type": "code",
      "source": [
        "R_A = 3943.7\n",
        "R_B = 4253.8\n",
        "AP = 1 / (1 + 10 ** ((R_B - R_A) / 400))\n",
        "BP = 1 - AP\n",
        "print(\"AP = \" + str(AP))\n",
        "print(\"BP = \" + str(BP))"
      ],
      "metadata": {
        "colab": {
          "base_uri": "https://localhost:8080/"
        },
        "id": "irRwCWoBFC3y",
        "outputId": "d529077b-bb9a-4f16-aaf0-4ee7e00563b2"
      },
      "execution_count": null,
      "outputs": [
        {
          "output_type": "stream",
          "name": "stdout",
          "text": [
            "AP = 0.14367710131477707\n",
            "BP = 0.8563228986852229\n"
          ]
        }
      ]
    },
    {
      "cell_type": "code",
      "source": [
        "import numpy as np\n",
        "'notD1_incomplete', 'rest_days', 'home_away_NS', 'travel_dist', 'expected_win_prob'\n",
        "\n",
        "def sigmoid(x):\n",
        "    return 1 / (1 + np.exp(-x))\n",
        "\n",
        "new_data_poly = poly.transform(np.array([[0, 7, 0, 350, 0.14367710131477707]]))"
      ],
      "metadata": {
        "colab": {
          "base_uri": "https://localhost:8080/"
        },
        "id": "_U-siBxXEHbq",
        "outputId": "21eea189-3018-4136-e9fa-d988f64ee484"
      },
      "execution_count": null,
      "outputs": [
        {
          "output_type": "stream",
          "name": "stderr",
          "text": [
            "/usr/local/lib/python3.11/dist-packages/sklearn/utils/validation.py:2739: UserWarning: X does not have valid feature names, but PolynomialFeatures was fitted with feature names\n",
            "  warnings.warn(\n"
          ]
        }
      ]
    },
    {
      "cell_type": "code",
      "source": [
        "predicted_win_percentage = lr.predict(new_data_poly)\n",
        "win_probability = sigmoid(predicted_win_percentage)\n",
        "\n",
        "print(f\"Predicted Win Probability: {win_probability[0]:.4f}\")"
      ],
      "metadata": {
        "colab": {
          "base_uri": "https://localhost:8080/"
        },
        "id": "zFK_5dbXZwm6",
        "outputId": "3ae0f690-56ca-42b1-e1a4-381e23881b46"
      },
      "execution_count": null,
      "outputs": [
        {
          "output_type": "stream",
          "name": "stdout",
          "text": [
            "Predicted Win Probability: 0.5781\n"
          ]
        }
      ]
    },
    {
      "cell_type": "code",
      "source": [
        "print(lr.n_features_in_)\n",
        "print(X_train_poly.shape)\n",
        "print(new_data_poly.shape)"
      ],
      "metadata": {
        "colab": {
          "base_uri": "https://localhost:8080/"
        },
        "id": "It3Ftpz4YvX7",
        "outputId": "0c655d3c-1fe4-4f36-b788-0d0e16d97ca2"
      },
      "execution_count": null,
      "outputs": [
        {
          "output_type": "stream",
          "name": "stdout",
          "text": [
            "21\n",
            "(7306, 21)\n",
            "(1, 21)\n"
          ]
        }
      ]
    },
    {
      "cell_type": "code",
      "source": [
        "lr.coef_"
      ],
      "metadata": {
        "colab": {
          "base_uri": "https://localhost:8080/"
        },
        "id": "kCZ_sZMfl-xs",
        "outputId": "3cd6d6b8-506a-4a45-a9d7-f25ae79ef487"
      },
      "execution_count": null,
      "outputs": [
        {
          "output_type": "execute_result",
          "data": {
            "text/plain": [
              "array([ 0.00000000e+00, -1.39185463e-01, -7.13398321e-03,  9.91257839e-02,\n",
              "       -3.86452513e-05,  6.12483662e-01, -1.39185448e-01,  1.83089655e-12,\n",
              "       -1.28646876e-01, -7.73950348e-13,  3.20845362e+01,  2.30020427e-04,\n",
              "       -4.94274958e-03, -2.80637243e-06,  4.13572967e-03, -6.64062508e-02,\n",
              "        1.31567072e-03, -4.79213075e-03,  1.20205166e-08, -4.80909145e-05,\n",
              "       -1.25926430e-02])"
            ]
          },
          "metadata": {},
          "execution_count": 31
        }
      ]
    },
    {
      "cell_type": "code",
      "source": [
        "lr.intercept_"
      ],
      "metadata": {
        "colab": {
          "base_uri": "https://localhost:8080/"
        },
        "id": "GKhGCfA3nGm4",
        "outputId": "db9e275f-5bd1-4232-9e06-bc73cba3fe29"
      },
      "execution_count": null,
      "outputs": [
        {
          "output_type": "execute_result",
          "data": {
            "text/plain": [
              "0.28325420362278153"
            ]
          },
          "metadata": {},
          "execution_count": 32
        }
      ]
    },
    {
      "cell_type": "code",
      "source": [
        "#predicting the necessary weights\n",
        "import pandas as pd\n",
        "from sklearn.linear_model import LogisticRegression\n",
        "from sklearn.model_selection import train_test_split\n",
        "from sklearn.preprocessing import StandardScaler\n",
        "# Merge dataset on game_id to pair teams\n",
        "df1= pd.read_csv('Copy of games_2022 - games_2022.csv')\n",
        "df_games = df1.merge(df, on=\"game_id\", suffixes=(\"_A\", \"_B\"))\n",
        "\n",
        "# Keep only valid matchups (team_A ≠ team_B)\n",
        "df_games = df_games[df_games[\"team_A\"] != df_games[\"team_B\"]]\n",
        "\n",
        "# Select necessary columns\n",
        "columns_needed = [\n",
        "    \"team_A\", \"team_B\", \"team_score_A\", \"team_score_B\",\n",
        "    \"FGA_3_A\", \"FGM_3_A\", \"FGA_2_A\", \"FGM_2_A\", \"FTA_A\", \"FTM_A\",\n",
        "    \"AST_A\", \"BLK_A\", \"STL_A\", \"TOV_A\", \"DREB_A\", \"OREB_A\",\n",
        "    \"FGA_3_B\", \"FGM_3_B\", \"FGA_2_B\", \"FGM_2_B\", \"FTA_B\", \"FTM_B\",\n",
        "    \"AST_B\", \"BLK_B\", \"STL_B\", \"TOV_B\", \"DREB_B\", \"OREB_B\"\n",
        "]\n",
        "\n",
        "df_games = df_games[columns_needed].drop_duplicates()\n",
        "\n",
        "# Save formatted dataset\n",
        "df_games.to_csv(\"formatted_games.csv\", index=False)\n",
        "print(\"Formatted dataset saved successfully.\")\n",
        "\n",
        "# Load your historical game data\n",
        "# The CSV should include columns: AST_A, AST_B, BLK_A, BLK_B, STL_A, STL_B, TOV_A, TOV_B, DREB_A, DREB_B, OREB_A, OREB_B, and 'result'\n",
        "# where 'result' is 1 if Team A won, 0 otherwise.\n",
        "df3 = pd.read_csv('formatted_games.csv')\n",
        "\n",
        "# Calculate differences for each advanced stat\n",
        "stat_list = ['AST', 'BLK', 'STL', 'TOV', 'DREB', 'OREB']\n",
        "for stat in stat_list:\n",
        "    df3[f'{stat}_diff'] = df3[f'{stat}_A'] - df3[f'{stat}_B']\n",
        "# Determine the result column (1 if Team A won, 0 otherwise)\n",
        "df3['result'] = (df3['team_score_A'] > df3['team_score_B']).astype(int)\n",
        "# Select features and target\n",
        "X = df3[[f'{stat}_diff' for stat in stat_list]]\n",
        "y = df3['result']  # Binary outcome: 1 if Team A wins, 0 if not\n",
        "\n",
        "# Optional: Standardize features (helps with convergence and interpretability)\n",
        "scaler = StandardScaler()\n",
        "X_scaled = scaler.fit_transform(X)\n",
        "\n",
        "# Split data into training and testing sets\n",
        "X_train, X_test, y_train, y_test = train_test_split(X_scaled, y, test_size=0.2, random_state=42)\n",
        "\n",
        "# Train the logistic regression model\n",
        "model = LogisticRegression()\n",
        "model.fit(X_train, y_train)\n",
        "\n",
        "# Retrieve the learned coefficients\n",
        "learned_coeffs = model.coef_[0]\n",
        "\n",
        "# Map coefficients to the stat_weighting dictionary\n",
        "predicted_stat_weighting = dict(zip(stat_list, learned_coeffs))\n",
        "print(\"Predicted advanced stat weights:\", predicted_stat_weighting)\n"
      ],
      "metadata": {
        "colab": {
          "base_uri": "https://localhost:8080/"
        },
        "id": "xAxC6IfgVVRe",
        "outputId": "70b70b9a-ea87-4820-d027-2da2f592010b"
      },
      "execution_count": null,
      "outputs": [
        {
          "output_type": "stream",
          "name": "stdout",
          "text": [
            "Formatted dataset saved successfully.\n",
            "Predicted advanced stat weights: {'AST': 1.2096897813756242, 'BLK': 0.11042661188571065, 'STL': 0.1753022616798368, 'TOV': -4.651538446135684, 'DREB': 5.467526587946814, 'OREB': -0.16406959836102708}\n"
          ]
        }
      ]
    },
    {
      "cell_type": "code",
      "source": [
        "#ELO model\n",
        "\n",
        "import pandas as pd\n",
        "import numpy as np\n",
        "\n",
        "# Initialize Elo ratings dictionary\n",
        "elo_ratings = {}  # This will store each team's current Elo rating\n",
        "\n",
        "def get_elo(team):\n",
        "    \"\"\"Retrieve the team's current Elo rating. If they don't have one, assign default 1500.\"\"\"\n",
        "    if team not in elo_ratings:\n",
        "        elo_ratings[team] = 1500  # Default starting Elo\n",
        "    return elo_ratings[team]\n",
        "\n",
        "#logistic function which calculates exprected win prob for team_A\n",
        "def expected_win_prob(team_A, team_B):\n",
        "    \"\"\"Calculate the probability of Team A winning against Team B based on Elo ratings.\"\"\"\n",
        "    R_A = get_elo(team_A)\n",
        "    R_B = get_elo(team_B)\n",
        "    return 1 / (1 + 10 ** ((R_B - R_A) / 400))\n",
        "\n",
        "#all this stuff below is to adjust the elo rating. look at elo update functions: it's based off what the expected win percentage was\n",
        "\n",
        "def update_elo_with_advanced_stats(team_A, team_B, score_A, score_B,\n",
        "                                   FGM_3_A, FGA_3_A, FGM_2_A, FGA_2_A, FTM_A, FTA_A, AST_A, BLK_A, STL_A, TOV_A, DREB_A, OREB_A,\n",
        "                                   FGM_3_B, FGA_3_B, FGM_2_B, FGA_2_B, FTM_B, FTA_B, AST_B, BLK_B, STL_B, TOV_B, DREB_B, OREB_B):\n",
        "    \"\"\"Update Elo ratings with shooting efficiency and advanced stats like AST, BLK, STL, TOV, REB.\"\"\"\n",
        "\n",
        "    K = 40 #adjust based on rate of change for elo\n",
        "\n",
        "    P_A = expected_win_prob(team_A, team_B)  # Expected probability of Team A winning\n",
        "    P_B = 1 - P_A  # Expected probability of Team B winning\n",
        "\n",
        "    # Determine actual result\n",
        "    S_A, S_B = (1, 0) if score_A > score_B else (0, 1)  # 1 if win, 0 if loss\n",
        "\n",
        "    # Calculate shooting efficiencies\n",
        "    eff_3_A = FGM_3_A / FGA_3_A if FGA_3_A > 0 else 0  # 3PT efficiency\n",
        "    eff_2_A = FGM_2_A / FGA_2_A if FGA_2_A > 0 else 0  # 2PT efficiency\n",
        "    eff_ft_A = FTM_A / FTA_A if FTA_A > 0 else 0       # Free throw efficiency\n",
        "\n",
        "    eff_3_B = FGM_3_B / FGA_3_B if FGA_3_B > 0 else 0\n",
        "    eff_2_B = FGM_2_B / FGA_2_B if FGA_2_B > 0 else 0\n",
        "    eff_ft_B = FTM_B / FTA_B if FTA_B > 0 else 0\n",
        "\n",
        "    # Performance-based adjustments\n",
        "    performance_factor = 10\n",
        "\n",
        "    shooting_adjustment_A = performance_factor * (\n",
        "        (eff_3_A - 0.35) + (eff_2_A - 0.50) + (eff_ft_A - 0.75)\n",
        "    )\n",
        "    shooting_adjustment_B = performance_factor * (\n",
        "        (eff_3_B - 0.35) + (eff_2_B - 0.50) + (eff_ft_B - 0.75)\n",
        "    )\n",
        "\n",
        "    # Advanced stat impact\n",
        "    stat_weighting = predicted_stat_weighting\n",
        "\n",
        "    advanced_stat_adjustment_A = (\n",
        "        AST_A * stat_weighting[\"AST\"] +\n",
        "        BLK_A * stat_weighting[\"BLK\"] +\n",
        "        STL_A * stat_weighting[\"STL\"] +\n",
        "        TOV_A * stat_weighting[\"TOV\"] +\n",
        "        DREB_A * stat_weighting[\"DREB\"] +\n",
        "        OREB_A * stat_weighting[\"OREB\"]\n",
        "    )\n",
        "\n",
        "    advanced_stat_adjustment_B = (\n",
        "        AST_B * stat_weighting[\"AST\"] +\n",
        "        BLK_B * stat_weighting[\"BLK\"] +\n",
        "        STL_B * stat_weighting[\"STL\"] +\n",
        "        TOV_B * stat_weighting[\"TOV\"] +\n",
        "        DREB_B * stat_weighting[\"DREB\"] +\n",
        "        OREB_B * stat_weighting[\"OREB\"]\n",
        "    )\n",
        "\n",
        "    # Final Elo update\n",
        "    elo_ratings[team_A] = get_elo(team_A) + K * (S_A - P_A) + shooting_adjustment_A + advanced_stat_adjustment_A\n",
        "    elo_ratings[team_B] = get_elo(team_B) + K * (S_B - P_B) + shooting_adjustment_B + advanced_stat_adjustment_B\n",
        "    return elo_ratings[team_A], elo_ratings[team_B]"
      ],
      "metadata": {
        "id": "WYMSluO3t1wk"
      },
      "execution_count": null,
      "outputs": []
    },
    {
      "cell_type": "code",
      "source": [
        "\n",
        "# Load the dataset\n",
        "file_path = \"/mnt/data/games_2022 - games_2022 (1).csv\"\n",
        "df = pd.read_csv(file_path)\n",
        "\n",
        "# Display basic info and first few rows\n",
        "df.info(), df.head()\n"
      ],
      "metadata": {
        "id": "gxA6epVUUX9r"
      },
      "execution_count": null,
      "outputs": []
    },
    {
      "cell_type": "code",
      "source": [
        "df2 = df.drop(columns=['game_date', 'F_tech', 'F_personal', 'largest_lead', 'OT_length_min_tot', 'attendance', 'tz_dif_H_E', 'prev_game_dist', 'rest_days', 'home_away', 'home_away_NS',\n",
        "       'travel_dist', 'TOV_team'])\n",
        "\n",
        "df2.columns\n",
        "print(df2.head())"
      ],
      "metadata": {
        "colab": {
          "base_uri": "https://localhost:8080/"
        },
        "id": "K0aJboC7dFaX",
        "outputId": "62ccc87e-87ab-4501-e773-288087539927"
      },
      "execution_count": null,
      "outputs": [
        {
          "output_type": "stream",
          "name": "stdout",
          "text": [
            "          game_id                       team  FGA_2  FGM_2  FGA_3  FGM_3  FTA  \\\n",
            "0  game_2022_2011      georgia_lady_bulldogs     50     22     11      5    6   \n",
            "1  game_2022_2011                 lsu_tigers     50     24     11      4   15   \n",
            "2  game_2022_2012            missouri_tigers     43     18     15      7   16   \n",
            "3  game_2022_2012   south_carolina_gamecocks     55     23     21      6    9   \n",
            "4  game_2022_2013  tennessee_lady_volunteers     41     20     15      4   15   \n",
            "\n",
            "   FTM  AST  BLK  STL  TOV  DREB  OREB  team_score  opponent_team_score  \\\n",
            "0    3   14    7    7   18    25    11          62                   68   \n",
            "1    8   15    2   15   14    25    11          68                   62   \n",
            "2   13   10    1    4    8    31     6          70                   69   \n",
            "3    5   15    8    3    8    27    20          69                   70   \n",
            "4   10   16    8    5   15    34    12          62                   44   \n",
            "\n",
            "   notD1_incomplete  win  \n",
            "0             False    0  \n",
            "1             False    1  \n",
            "2             False    1  \n",
            "3             False    0  \n",
            "4             False    1  \n"
          ]
        }
      ]
    },
    {
      "cell_type": "code",
      "source": [
        "final_elo_ratings = {}\n",
        "\n",
        "# Loop through every two rows (each game has two rows)\n",
        "for i in range(0, len(df), 2):\n",
        "    team_A = df2.iloc[i]  # First row (Team 1)\n",
        "    team_B = df2.iloc[i+1]  # Second row (Team 2)\n",
        "\n",
        "    # Call the Elo update function\n",
        "    new_elo_A, new_elo_B = update_elo_with_advanced_stats(\n",
        "        team_A['team'], team_B['team'], team_A['team_score'], team_B['team_score'],\n",
        "        team_A['FGM_3'], team_A['FGA_3'], team_A['FGM_2'], team_A['FGA_2'], team_A['FTM'], team_A['FTA'],\n",
        "        team_A['AST'], team_A['BLK'], team_A['STL'], team_A['TOV'], team_A['DREB'], team_A['OREB'],\n",
        "        team_B['FGM_3'], team_B['FGA_3'], team_B['FGM_2'], team_B['FGA_2'], team_B['FTM'], team_B['FTA'],\n",
        "        team_B['AST'], team_B['BLK'], team_B['STL'], team_B['TOV'], team_B['DREB'], team_B['OREB']\n",
        "        )\n",
        "    final_elo_ratings[team_A['team']] = new_elo_A\n",
        "    final_elo_ratings[team_B['team']] = new_elo_B\n",
        "\n",
        "# Convert to DataFrame for better visualization\n",
        "final_elo_df = pd.DataFrame(list(final_elo_ratings.items()), columns=['Team', 'Final_Elo'])\n",
        "final_elo_df = final_elo_df.sort_values(by='Team', ascending=False)\n",
        "\n",
        "# Display final Elo ratings\n",
        "print(final_elo_df)"
      ],
      "metadata": {
        "id": "Iz2E3bAC8NcO",
        "colab": {
          "base_uri": "https://localhost:8080/"
        },
        "outputId": "491f1e0b-b1f4-46d3-cd5b-a34120102f39"
      },
      "execution_count": null,
      "outputs": [
        {
          "output_type": "stream",
          "name": "stdout",
          "text": [
            "                                    Team    Final_Elo\n",
            "339            youngstown_state_penguins  4235.378107\n",
            "522  young_harris_college_mountain_lions  1575.086879\n",
            "262                        yale_bulldogs  3663.885995\n",
            "340                    xavier_musketeers  3747.915453\n",
            "371                  xavier_la_gold_rush  1499.978866\n",
            "..                                   ...          ...\n",
            "64                            akron_zips  3928.109213\n",
            "34                     air_force_falcons  3762.104896\n",
            "448         agnes_scott_college_scotties  1366.570866\n",
            "513         academy_of_art_urban_knights  1637.228798\n",
            "319           abilene_christian_wildcats  3675.141568\n",
            "\n",
            "[564 rows x 2 columns]\n"
          ]
        }
      ]
    },
    {
      "cell_type": "code",
      "source": [
        "min3=10000000000;\n",
        "reverse_elo = {}\n",
        "for i in elo_ratings:\n",
        "  min3=min(elo_ratings[i],ma3x)\n",
        "  reverse_elo[elo_ratings[i]]=i\n",
        "print(reverse_elo[min3])\n",
        "print(min3)"
      ],
      "metadata": {
        "colab": {
          "base_uri": "https://localhost:8080/",
          "height": 220
        },
        "id": "7fCVQj-R1BWH",
        "outputId": "c43c1641-f5e9-4015-a864-bc73814a0043"
      },
      "execution_count": null,
      "outputs": [
        {
          "output_type": "error",
          "ename": "NameError",
          "evalue": "name 'ma3x' is not defined",
          "traceback": [
            "\u001b[0;31m---------------------------------------------------------------------------\u001b[0m",
            "\u001b[0;31mNameError\u001b[0m                                 Traceback (most recent call last)",
            "\u001b[0;32m<ipython-input-26-22dcac0df6e9>\u001b[0m in \u001b[0;36m<cell line: 0>\u001b[0;34m()\u001b[0m\n\u001b[1;32m      2\u001b[0m \u001b[0mreverse_elo\u001b[0m \u001b[0;34m=\u001b[0m \u001b[0;34m{\u001b[0m\u001b[0;34m}\u001b[0m\u001b[0;34m\u001b[0m\u001b[0;34m\u001b[0m\u001b[0m\n\u001b[1;32m      3\u001b[0m \u001b[0;32mfor\u001b[0m \u001b[0mi\u001b[0m \u001b[0;32min\u001b[0m \u001b[0melo_ratings\u001b[0m\u001b[0;34m:\u001b[0m\u001b[0;34m\u001b[0m\u001b[0;34m\u001b[0m\u001b[0m\n\u001b[0;32m----> 4\u001b[0;31m   \u001b[0mmin3\u001b[0m\u001b[0;34m=\u001b[0m\u001b[0mmin\u001b[0m\u001b[0;34m(\u001b[0m\u001b[0melo_ratings\u001b[0m\u001b[0;34m[\u001b[0m\u001b[0mi\u001b[0m\u001b[0;34m]\u001b[0m\u001b[0;34m,\u001b[0m\u001b[0mma3x\u001b[0m\u001b[0;34m)\u001b[0m\u001b[0;34m\u001b[0m\u001b[0;34m\u001b[0m\u001b[0m\n\u001b[0m\u001b[1;32m      5\u001b[0m   \u001b[0mreverse_elo\u001b[0m\u001b[0;34m[\u001b[0m\u001b[0melo_ratings\u001b[0m\u001b[0;34m[\u001b[0m\u001b[0mi\u001b[0m\u001b[0;34m]\u001b[0m\u001b[0;34m]\u001b[0m\u001b[0;34m=\u001b[0m\u001b[0mi\u001b[0m\u001b[0;34m\u001b[0m\u001b[0;34m\u001b[0m\u001b[0m\n\u001b[1;32m      6\u001b[0m \u001b[0mprint\u001b[0m\u001b[0;34m(\u001b[0m\u001b[0mreverse_elo\u001b[0m\u001b[0;34m[\u001b[0m\u001b[0mmin3\u001b[0m\u001b[0;34m]\u001b[0m\u001b[0;34m)\u001b[0m\u001b[0;34m\u001b[0m\u001b[0;34m\u001b[0m\u001b[0m\n",
            "\u001b[0;31mNameError\u001b[0m: name 'ma3x' is not defined"
          ]
        }
      ]
    },
    {
      "cell_type": "code",
      "source": [
        "print(elo_ratings['rhode_island_rams'])\n",
        "print(elo_ratings['north_carolina_tar_heels'])\n",
        "print(ELODICT['rhode_island_rams'])"
      ],
      "metadata": {
        "colab": {
          "base_uri": "https://localhost:8080/",
          "height": 222
        },
        "id": "uHzDB19l3N81",
        "outputId": "f26586de-fe5c-4f06-881a-0748586b1657"
      },
      "execution_count": null,
      "outputs": [
        {
          "output_type": "stream",
          "name": "stdout",
          "text": [
            "4358.686267270726\n",
            "4574.259006485899\n"
          ]
        },
        {
          "output_type": "error",
          "ename": "KeyError",
          "evalue": "'rhode_island_rams'",
          "traceback": [
            "\u001b[0;31m---------------------------------------------------------------------------\u001b[0m",
            "\u001b[0;31mKeyError\u001b[0m                                  Traceback (most recent call last)",
            "\u001b[0;32m<ipython-input-27-3eaba893caab>\u001b[0m in \u001b[0;36m<cell line: 0>\u001b[0;34m()\u001b[0m\n\u001b[1;32m      1\u001b[0m \u001b[0mprint\u001b[0m\u001b[0;34m(\u001b[0m\u001b[0melo_ratings\u001b[0m\u001b[0;34m[\u001b[0m\u001b[0;34m'rhode_island_rams'\u001b[0m\u001b[0;34m]\u001b[0m\u001b[0;34m)\u001b[0m\u001b[0;34m\u001b[0m\u001b[0;34m\u001b[0m\u001b[0m\n\u001b[1;32m      2\u001b[0m \u001b[0mprint\u001b[0m\u001b[0;34m(\u001b[0m\u001b[0melo_ratings\u001b[0m\u001b[0;34m[\u001b[0m\u001b[0;34m'north_carolina_tar_heels'\u001b[0m\u001b[0;34m]\u001b[0m\u001b[0;34m)\u001b[0m\u001b[0;34m\u001b[0m\u001b[0;34m\u001b[0m\u001b[0m\n\u001b[0;32m----> 3\u001b[0;31m \u001b[0mprint\u001b[0m\u001b[0;34m(\u001b[0m\u001b[0mELODICT\u001b[0m\u001b[0;34m[\u001b[0m\u001b[0;34m'rhode_island_rams'\u001b[0m\u001b[0;34m]\u001b[0m\u001b[0;34m)\u001b[0m\u001b[0;34m\u001b[0m\u001b[0;34m\u001b[0m\u001b[0m\n\u001b[0m",
            "\u001b[0;31mKeyError\u001b[0m: 'rhode_island_rams'"
          ]
        }
      ]
    },
    {
      "cell_type": "code",
      "source": [
        "import pickle\n",
        "\n",
        "with open('dictionary.pkl', 'wb') as f:\n",
        "    pickle.dump(elo_ratings, f)\n",
        "\n"
      ],
      "metadata": {
        "id": "6_46gOJlQoB8"
      },
      "execution_count": null,
      "outputs": []
    },
    {
      "cell_type": "code",
      "source": [
        "for i in elo_ratings:\n",
        "  with open('tuff.csv', 'w', newline='') as csvfile:\n",
        "    writer= csv.writer(csvfile)\n",
        "    writer.writerows(loaded_dict)"
      ],
      "metadata": {
        "id": "6wzuPvhF2-le"
      },
      "execution_count": null,
      "outputs": []
    },
    {
      "cell_type": "code",
      "source": [
        "print(expected_win_prob('rhode_island_rams', 'north_carolina_tar_heels')*100)\n",
        "print(expected_win_prob('nc_state_wolfpack', 'rhode.island_rams' )*100)\n",
        "print(expected_win_prob('nc_state_wolfpack', 'north_carolina_tar_heels' )*100)\n",
        "print(expected_win_prob('liberty_flames', 'bucknell_bison' )*100)\n",
        "print(expected_win_prob('drexel_dragons', 'delaware_blue_hens' )*100)\n",
        "print(expected_win_prob('massachusetts_minutewomen', 'princeton_tigers' )*100)\n",
        "print(expected_win_prob('buffalo_bulls', 'stony_brook_seawolves' )*100)\n",
        "print(expected_win_prob('fairfield_stags', 'towson_tigers' )*100)\n",
        "print(expected_win_prob('uconn_huskies', 'campbell_fighting_camels' )*100)\n",
        "print(expected_win_prob('american_university_eagles', 'columbia_lions' )*100)"
      ],
      "metadata": {
        "colab": {
          "base_uri": "https://localhost:8080/"
        },
        "id": "AVpuTfmORnv0",
        "outputId": "af58d26e-d474-41dc-a195-829d2c7ffcf1"
      },
      "execution_count": null,
      "outputs": [
        {
          "output_type": "stream",
          "name": "stdout",
          "text": [
            "22.427302695700543\n",
            "99.99999999643394\n",
            "99.82738181053841\n",
            "13.197778812638102\n",
            "73.1458578917229\n",
            "84.63975663125113\n",
            "99.42894301752492\n",
            "48.66728875822205\n",
            "99.9495814873903\n",
            "14.366764456413758\n",
            "4358.686267270726\n",
            "4574.259006485899\n"
          ]
        }
      ]
    },
    {
      "cell_type": "code",
      "source": [
        "dfsig = df.drop(columns=['game_date', 'F_tech', 'F_personal', 'largest_lead', 'OT_length_min_tot', 'attendance', 'tz_dif_H_E', 'prev_game_dist', 'rest_days', 'home_away', 'home_away_NS',\n",
        "       'travel_dist', 'TOV_team'])\n",
        "print(dfsig.head())\n",
        "dfsig.columns"
      ],
      "metadata": {
        "id": "0JzXrdrJSFsk",
        "colab": {
          "base_uri": "https://localhost:8080/"
        },
        "outputId": "d727cf04-0651-4858-ba43-6f29dd96a88d"
      },
      "execution_count": null,
      "outputs": [
        {
          "output_type": "stream",
          "name": "stdout",
          "text": [
            "          game_id                       team  FGA_2  FGM_2  FGA_3  FGM_3  FTA  \\\n",
            "0  game_2022_2011      georgia_lady_bulldogs     50     22     11      5    6   \n",
            "1  game_2022_2011                 lsu_tigers     50     24     11      4   15   \n",
            "2  game_2022_2012            missouri_tigers     43     18     15      7   16   \n",
            "3  game_2022_2012   south_carolina_gamecocks     55     23     21      6    9   \n",
            "4  game_2022_2013  tennessee_lady_volunteers     41     20     15      4   15   \n",
            "\n",
            "   FTM  AST  BLK  STL  TOV  DREB  OREB  team_score  opponent_team_score  \\\n",
            "0    3   14    7    7   18    25    11          62                   68   \n",
            "1    8   15    2   15   14    25    11          68                   62   \n",
            "2   13   10    1    4    8    31     6          70                   69   \n",
            "3    5   15    8    3    8    27    20          69                   70   \n",
            "4   10   16    8    5   15    34    12          62                   44   \n",
            "\n",
            "   notD1_incomplete  win  \n",
            "0             False    0  \n",
            "1             False    1  \n",
            "2             False    1  \n",
            "3             False    0  \n",
            "4             False    1  \n"
          ]
        },
        {
          "output_type": "execute_result",
          "data": {
            "text/plain": [
              "Index(['game_id', 'team', 'FGA_2', 'FGM_2', 'FGA_3', 'FGM_3', 'FTA', 'FTM',\n",
              "       'AST', 'BLK', 'STL', 'TOV', 'DREB', 'OREB', 'team_score',\n",
              "       'opponent_team_score', 'notD1_incomplete', 'win'],\n",
              "      dtype='object')"
            ]
          },
          "metadata": {},
          "execution_count": 27
        }
      ]
    }
  ]
}